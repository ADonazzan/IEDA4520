{
 "cells": [
  {
   "cell_type": "markdown",
   "metadata": {
    "slideshow": {
     "slide_type": "skip"
    }
   },
   "source": [
    "convert to presentation: jupyter nbconvert Presentation.ipynb --to slides --no-prompt\n",
    "jupyter nbconvert Presentation.ipynb --to slides --post serve"
   ]
  },
  {
   "cell_type": "markdown",
   "metadata": {
    "slideshow": {
     "slide_type": "slide"
    }
   },
   "source": [
    "*Andrea Donazzan, Amadeus Lars Linge*\n",
    "# Empirical Comparison of Option Pricing Models\n",
    "Compare various techniques of option pricing estimation by using real market data"
   ]
  },
  {
   "cell_type": "markdown",
   "metadata": {
    "slideshow": {
     "slide_type": "slide"
    }
   },
   "source": [
    "## Content\n",
    "- Data collection\n",
    "- Monte Carlo pricing models\n",
    "- Calibration\n",
    "- Pricing with Machine Learning\n",
    "- Results"
   ]
  },
  {
   "cell_type": "markdown",
   "metadata": {
    "slideshow": {
     "slide_type": "slide"
    }
   },
   "source": [
    "## Data Collection\n",
    "**Goal:** build database with market price of options and information about underlying\n",
    "\n",
    "Stock data: yfinance\\\n",
    "Option data: yahooquery"
   ]
  },
  {
   "cell_type": "code",
   "execution_count": null,
   "metadata": {},
   "outputs": [],
   "source": [
    "from yahooquery import Ticker\n",
    "Ticker('AAPL').option_chain"
   ]
  },
  {
   "cell_type": "markdown",
   "metadata": {},
   "source": [
    "<center><img src=\"./Presentation%20files/Option_Chain.png\"/></center>"
   ]
  },
  {
   "cell_type": "markdown",
   "metadata": {
    "slideshow": {
     "slide_type": "slide"
    }
   },
   "source": [
    "## Modifying Option Chain\n",
    "Add price of underlying, historical variablility, option maturity"
   ]
  },
  {
   "cell_type": "code",
   "execution_count": null,
   "metadata": {},
   "outputs": [],
   "source": [
    "import Data\n",
    "Data.GetData('2018,11,22', '2022,11,22', 252, False)"
   ]
  },
  {
   "cell_type": "markdown",
   "metadata": {},
   "source": [
    "<center><img src=\"./Presentation%20files/Data_df.png\"/></center>"
   ]
  },
  {
   "cell_type": "markdown",
   "metadata": {
    "slideshow": {
     "slide_type": "slide"
    }
   },
   "source": [
    "# Pricing Models\n",
    "European Options: \n",
    "- **Black Scholes** Model (GMB) \n",
    "- Merton's **Jump Diffusion** (GMB with Poisson)\n",
    "\n",
    "American Options: \n",
    "- **Cox-Ross-Rubinstein** Model (Binomial Tree)\n",
    "- **Longstaff-Schwartz** Model (Least Squares Monte Carlo)"
   ]
  },
  {
   "cell_type": "markdown",
   "metadata": {
    "slideshow": {
     "slide_type": "slide"
    }
   },
   "source": [
    "## Black Scholes\n",
    "$$\n",
    "S(t_{i+1})=S(t_i)\\exp\\left(\\left(\\mu - \\frac{\\sigma}{2}\\right)\\Delta t + \\sigma \\sqrt{\\Delta t} Z_{i+1}\\right)\n",
    "$$\n",
    "## Jump Diffusion\n",
    "$$\n",
    "S(t_{i+1})=S(t_i)\\exp\\left(\\left(\\mu - \\frac{\\sigma}{2}\\right)\\Delta t + \\sigma \\sqrt{\\Delta t} Z_{i+1} + aN_{i+1}+b\\sqrt{N_{i+1}}Z_{i+1}' \\right)\\\\\n",
    "\\quad\n",
    "\\\\\n",
    "\\text{with } N_i \\sim \\text{Pois}(\\lambda \\Delta t)\n",
    "$$"
   ]
  },
  {
   "cell_type": "markdown",
   "metadata": {
    "slideshow": {
     "slide_type": "slide"
    }
   },
   "source": [
    "## American Options\n",
    "Allow for **early exercise**: \n",
    "\n",
    "The value at each time step is the maximum between the payoff of exercising the option at that time step (early exercise value) and the expected value of holding the option to maturity (continuation value).\n",
    "\n",
    "For an **American call** option:\n",
    "$$\n",
    "O_t^i = \\max\\left((S_t^i - K)^+,\\: e^{-(T-t)r}(E[S_T|S_t^i] - K)^+ \\right)\n",
    "$$"
   ]
  },
  {
   "cell_type": "markdown",
   "metadata": {
    "slideshow": {
     "slide_type": "slide"
    }
   },
   "source": [
    "## Binomial Trees 1: Simulate Stock Value\n",
    "Stock price can:\n",
    "- Move up to $uS_{0}$ with probability $q$\n",
    "- Move down to $uS_{0}$ with probability $(1-q)$\n",
    "$$\n",
    "u = e^{\\sigma \\sqrt{\\Delta t}}\n",
    "\\qquad\n",
    "d = e^{-\\sigma \\sqrt{\\Delta t}} = \\frac{1}{u}\n",
    "\\qquad\n",
    "q = \\frac{e^{r\\Delta t}-d}{u-d}\\\\\n",
    "$$\n",
    "Fill the best outcome nodes of the tree with $S_{i,0} = u S_{i-1,0}$ and the others with $S_{i,j}=d S_{i-1,j-1}$"
   ]
  },
  {
   "cell_type": "markdown",
   "metadata": {},
   "source": [
    "<center><img src=\"./Presentation%20files/Stock_tree.png\" width=\"400\"/></center>"
   ]
  },
  {
   "cell_type": "code",
   "execution_count": 41,
   "metadata": {
    "slideshow": {
     "slide_type": "skip"
    }
   },
   "outputs": [
    {
     "data": {
      "text/html": [
       "<div>\n",
       "<style scoped>\n",
       "    .dataframe tbody tr th:only-of-type {\n",
       "        vertical-align: middle;\n",
       "    }\n",
       "\n",
       "    .dataframe tbody tr th {\n",
       "        vertical-align: top;\n",
       "    }\n",
       "\n",
       "    .dataframe thead th {\n",
       "        text-align: right;\n",
       "    }\n",
       "</style>\n",
       "<table border=\"1\" class=\"dataframe\">\n",
       "  <thead>\n",
       "    <tr style=\"text-align: right;\">\n",
       "      <th></th>\n",
       "      <th>0</th>\n",
       "      <th>1</th>\n",
       "      <th>2</th>\n",
       "      <th>3</th>\n",
       "      <th>4</th>\n",
       "    </tr>\n",
       "  </thead>\n",
       "  <tbody>\n",
       "    <tr>\n",
       "      <th>0</th>\n",
       "      <td>1.000000</td>\n",
       "      <td>0.000000</td>\n",
       "      <td>0.000000</td>\n",
       "      <td>0.000000</td>\n",
       "      <td>0.000000</td>\n",
       "    </tr>\n",
       "    <tr>\n",
       "      <th>1</th>\n",
       "      <td>1.221403</td>\n",
       "      <td>0.818731</td>\n",
       "      <td>0.000000</td>\n",
       "      <td>0.000000</td>\n",
       "      <td>0.000000</td>\n",
       "    </tr>\n",
       "    <tr>\n",
       "      <th>2</th>\n",
       "      <td>1.491825</td>\n",
       "      <td>1.000000</td>\n",
       "      <td>0.670320</td>\n",
       "      <td>0.000000</td>\n",
       "      <td>0.000000</td>\n",
       "    </tr>\n",
       "    <tr>\n",
       "      <th>3</th>\n",
       "      <td>1.822119</td>\n",
       "      <td>1.221403</td>\n",
       "      <td>0.818731</td>\n",
       "      <td>0.548812</td>\n",
       "      <td>0.000000</td>\n",
       "    </tr>\n",
       "    <tr>\n",
       "      <th>4</th>\n",
       "      <td>2.225541</td>\n",
       "      <td>1.491825</td>\n",
       "      <td>1.000000</td>\n",
       "      <td>0.670320</td>\n",
       "      <td>0.449329</td>\n",
       "    </tr>\n",
       "  </tbody>\n",
       "</table>\n",
       "</div>"
      ],
      "text/plain": [
       "          0         1         2         3         4\n",
       "0  1.000000  0.000000  0.000000  0.000000  0.000000\n",
       "1  1.221403  0.818731  0.000000  0.000000  0.000000\n",
       "2  1.491825  1.000000  0.670320  0.000000  0.000000\n",
       "3  1.822119  1.221403  0.818731  0.548812  0.000000\n",
       "4  2.225541  1.491825  1.000000  0.670320  0.449329"
      ]
     },
     "execution_count": 41,
     "metadata": {},
     "output_type": "execute_result"
    }
   ],
   "source": [
    "import numpy as np\n",
    "import pandas as pd\n",
    "N = 4\n",
    "S0 = 1\n",
    "dt = 1\n",
    "sigma = 0.2\n",
    "u = np.exp(sigma*np.sqrt(dt))\n",
    "d = 1/u\n",
    "K = 1.1\n",
    "r = 0.1\n",
    "q = (np.exp(r*dt) - d) / (u - d)\n",
    "stock_tree = np.zeros((N+1, N+1))\n",
    "stock_tree[0, 0] = S0\n",
    "\n",
    "for i in range(1, N+1):\n",
    "    stock_tree[i, 0] = stock_tree[i-1, 0] * u\n",
    "    for j in range(1, i+1):\n",
    "        stock_tree[i, j] = stock_tree[i-1, j-1] * d\n",
    "\n",
    "pd.DataFrame(stock_tree)\n",
    "# ![Binomial tree](./Presentation%20files/Binomial_tree.png)"
   ]
  },
  {
   "cell_type": "markdown",
   "metadata": {
    "slideshow": {
     "slide_type": "slide"
    }
   },
   "source": [
    "## Binomial Trees 2: Compute Option Price\n",
    "Start from end of tree and move upwards:\n",
    "\n",
    "At maturity, compute value as $\\max(S_{T,j}-K, 0) $\n",
    "\n",
    "For each previous node compute \n",
    "$$\n",
    "\\quad O_{i,j} = \\max \\left(\\underbrace{e^{-r\\Delta t}(qO_{(i+1),j}+(1-q)O_{(i+1),(j+1)})}_\\text{continuation value},\\; \\underbrace{S_{i,j}-K}_\\text{immediate exercise}\\right)\n",
    "$$"
   ]
  },
  {
   "cell_type": "markdown",
   "metadata": {},
   "source": [
    "<center><img src=\"./Presentation%20files/Option_tree.png\" width=\"250\"/></center>"
   ]
  },
  {
   "cell_type": "code",
   "execution_count": 42,
   "metadata": {
    "slideshow": {
     "slide_type": "skip"
    }
   },
   "outputs": [
    {
     "data": {
      "text/html": [
       "<div>\n",
       "<style scoped>\n",
       "    .dataframe tbody tr th:only-of-type {\n",
       "        vertical-align: middle;\n",
       "    }\n",
       "\n",
       "    .dataframe tbody tr th {\n",
       "        vertical-align: top;\n",
       "    }\n",
       "\n",
       "    .dataframe thead th {\n",
       "        text-align: right;\n",
       "    }\n",
       "</style>\n",
       "<table border=\"1\" class=\"dataframe\">\n",
       "  <thead>\n",
       "    <tr style=\"text-align: right;\">\n",
       "      <th></th>\n",
       "      <th>0</th>\n",
       "      <th>1</th>\n",
       "      <th>2</th>\n",
       "      <th>3</th>\n",
       "      <th>4</th>\n",
       "    </tr>\n",
       "  </thead>\n",
       "  <tbody>\n",
       "    <tr>\n",
       "      <th>0</th>\n",
       "      <td>0.30</td>\n",
       "      <td>0.00</td>\n",
       "      <td>0.0</td>\n",
       "      <td>0.0</td>\n",
       "      <td>0.0</td>\n",
       "    </tr>\n",
       "    <tr>\n",
       "      <th>1</th>\n",
       "      <td>0.43</td>\n",
       "      <td>0.10</td>\n",
       "      <td>0.0</td>\n",
       "      <td>0.0</td>\n",
       "      <td>0.0</td>\n",
       "    </tr>\n",
       "    <tr>\n",
       "      <th>2</th>\n",
       "      <td>0.60</td>\n",
       "      <td>0.16</td>\n",
       "      <td>0.0</td>\n",
       "      <td>0.0</td>\n",
       "      <td>0.0</td>\n",
       "    </tr>\n",
       "    <tr>\n",
       "      <th>3</th>\n",
       "      <td>0.83</td>\n",
       "      <td>0.25</td>\n",
       "      <td>0.0</td>\n",
       "      <td>0.0</td>\n",
       "      <td>0.0</td>\n",
       "    </tr>\n",
       "    <tr>\n",
       "      <th>4</th>\n",
       "      <td>1.13</td>\n",
       "      <td>0.39</td>\n",
       "      <td>0.0</td>\n",
       "      <td>0.0</td>\n",
       "      <td>0.0</td>\n",
       "    </tr>\n",
       "  </tbody>\n",
       "</table>\n",
       "</div>"
      ],
      "text/plain": [
       "      0     1    2    3    4\n",
       "0  0.30  0.00  0.0  0.0  0.0\n",
       "1  0.43  0.10  0.0  0.0  0.0\n",
       "2  0.60  0.16  0.0  0.0  0.0\n",
       "3  0.83  0.25  0.0  0.0  0.0\n",
       "4  1.13  0.39  0.0  0.0  0.0"
      ]
     },
     "execution_count": 42,
     "metadata": {},
     "output_type": "execute_result"
    }
   ],
   "source": [
    "option_tree = np.zeros((N+1, N+1))\n",
    "for j in range(N+1):\n",
    "    option_tree[N, j] = max(stock_tree[N, j] - K, 0)\n",
    "\n",
    "for i in range(N-1, -1, -1):\n",
    "    for j in range(i+1):\n",
    "        option_tree[i, j] = max(np.exp(-r*dt) * (q * option_tree[i+1, j] + (1-q) * option_tree[i+1, j+1]), stock_tree[i, j] - K)\n",
    "\n",
    "pd.DataFrame(option_tree).round(decimals = 2)\n"
   ]
  },
  {
   "cell_type": "markdown",
   "metadata": {
    "slideshow": {
     "slide_type": "slide"
    }
   },
   "source": [
    "## Longstaff-Schwartz algorithm\n",
    "- Proposed in **Longstaff and Schwartz (2001)**.\n",
    "- Computes price of options that can be exercised before maturity.\n",
    "- Uses least-squares regression to estimate conditional expectations."
   ]
  },
  {
   "cell_type": "markdown",
   "metadata": {
    "slideshow": {
     "slide_type": "slide"
    }
   },
   "source": [
    "## Motivation: Why do we need the LSMC algorithm?\n",
    "\n",
    "- How can we evaluate the **continuation value** $E[S_T|S_t^i]$?\n",
    "\n",
    "    Nested Monte Carlo simulations for every $S_t^i$ until maturity &rarr; **unfeasible** for large numbers\n",
    "    \n",
    "- Binomial Tree: high discretization error if used with long time steps.\n",
    "\n",
    "    Will **underestimate** the number of **early exercise opportunities** as it only provides two outcomes for the value of the underlying.\n",
    "\n",
    "    On the other hand, time complexity: $O(2^n)$"
   ]
  },
  {
   "cell_type": "markdown",
   "metadata": {
    "slideshow": {
     "slide_type": "slide"
    }
   },
   "source": [
    "# Calibration"
   ]
  },
  {
   "cell_type": "markdown",
   "metadata": {
    "slideshow": {
     "slide_type": "slide"
    }
   },
   "source": [
    "## Jump Diffusion Calibration\n",
    "Parameters:\n",
    "- $\\lambda$ &rarr; rate of Poisson process \n",
    "- $a$ and $b$ &rarr; size of the jump\n",
    "\n",
    "Test different values for each parameter holding the other two constant \n",
    "Compute mean squared error of estimated prices\n",
    "<table style=\"width:100%\"><tr>\n",
    "<td> <img src=\"./Presentation files/MJD_lambda_error.png\"/> </td>\n",
    "<td> <img src=\"./Presentation files/MJD_a_error.png\"/> </td>\n",
    "<td> <img src=\"./Presentation files/MJD_b_error.png\" /> </td>\n",
    "</tr></table>\n",
    "\n",
    "$\\lambda = 0.075, a = -0.1, b = 0.05$"
   ]
  },
  {
   "cell_type": "markdown",
   "metadata": {
    "slideshow": {
     "slide_type": "skip"
    }
   },
   "source": [
    "\n",
    "\n",
    "<table style=\"width:100%\">\n",
    "    <tr>\n",
    "        <img src=\"./Presentation files/MJD_lambda_error.png\"  width=\"200\">\n",
    "        <img src=\"./Presentation files/MJD_a_error.png\"  width=\"200\">\n",
    "        <img src=\"./Presentation files/MJD_b_error.png\"  width=\"200\">\n",
    "    </tr>\n",
    "</table>"
   ]
  },
  {
   "cell_type": "markdown",
   "metadata": {},
   "source": [
    "## Interest rate and Standard Deviation calibration\n"
   ]
  }
 ],
 "metadata": {
  "kernelspec": {
   "display_name": "Python 3 (ipykernel)",
   "language": "python",
   "name": "python3"
  },
  "language_info": {
   "codemirror_mode": {
    "name": "ipython",
    "version": 3
   },
   "file_extension": ".py",
   "mimetype": "text/x-python",
   "name": "python",
   "nbconvert_exporter": "python",
   "pygments_lexer": "ipython3",
   "version": "3.10.2"
  }
 },
 "nbformat": 4,
 "nbformat_minor": 2
}
