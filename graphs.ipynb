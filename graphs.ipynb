{
 "cells": [
  {
   "cell_type": "code",
   "execution_count": 10,
   "metadata": {},
   "outputs": [
    {
     "data": {
      "text/html": [
       "<div>\n",
       "<style scoped>\n",
       "    .dataframe tbody tr th:only-of-type {\n",
       "        vertical-align: middle;\n",
       "    }\n",
       "\n",
       "    .dataframe tbody tr th {\n",
       "        vertical-align: top;\n",
       "    }\n",
       "\n",
       "    .dataframe thead th {\n",
       "        text-align: right;\n",
       "    }\n",
       "</style>\n",
       "<table border=\"1\" class=\"dataframe\">\n",
       "  <thead>\n",
       "    <tr style=\"text-align: right;\">\n",
       "      <th></th>\n",
       "      <th>symbol</th>\n",
       "      <th>optionType</th>\n",
       "      <th>expiration</th>\n",
       "      <th>strike</th>\n",
       "      <th>lastPrice</th>\n",
       "      <th>lastTradeDate</th>\n",
       "      <th>inTheMoney</th>\n",
       "      <th>maturity</th>\n",
       "      <th>S0</th>\n",
       "      <th>sigma</th>\n",
       "      <th>returns</th>\n",
       "      <th>method</th>\n",
       "      <th>LSMC_est_price</th>\n",
       "      <th>LSMC_perc_error</th>\n",
       "      <th>BIN_est_price</th>\n",
       "      <th>BIN_perc_error</th>\n",
       "      <th>BS_est_price</th>\n",
       "      <th>BS_perc_error</th>\n",
       "      <th>MJD_est_price</th>\n",
       "      <th>MJD_perc_error</th>\n",
       "    </tr>\n",
       "  </thead>\n",
       "  <tbody>\n",
       "    <tr>\n",
       "      <th>32528</th>\n",
       "      <td>^SPX</td>\n",
       "      <td>puts</td>\n",
       "      <td>2024-06-21</td>\n",
       "      <td>3075.0</td>\n",
       "      <td>13.45</td>\n",
       "      <td>2023-11-20</td>\n",
       "      <td>False</td>\n",
       "      <td>214</td>\n",
       "      <td>4547.379883</td>\n",
       "      <td>0.218912</td>\n",
       "      <td>0.09704</td>\n",
       "      <td>E</td>\n",
       "      <td>NaN</td>\n",
       "      <td>NaN</td>\n",
       "      <td>NaN</td>\n",
       "      <td>NaN</td>\n",
       "      <td>0.478964</td>\n",
       "      <td>0.964389</td>\n",
       "      <td>0.573804</td>\n",
       "      <td>0.957338</td>\n",
       "    </tr>\n",
       "    <tr>\n",
       "      <th>32710</th>\n",
       "      <td>^SPX</td>\n",
       "      <td>puts</td>\n",
       "      <td>2024-07-19</td>\n",
       "      <td>2850.0</td>\n",
       "      <td>12.13</td>\n",
       "      <td>2023-11-20</td>\n",
       "      <td>False</td>\n",
       "      <td>242</td>\n",
       "      <td>4547.379883</td>\n",
       "      <td>0.218912</td>\n",
       "      <td>0.09704</td>\n",
       "      <td>E</td>\n",
       "      <td>NaN</td>\n",
       "      <td>NaN</td>\n",
       "      <td>NaN</td>\n",
       "      <td>NaN</td>\n",
       "      <td>0.268787</td>\n",
       "      <td>0.977841</td>\n",
       "      <td>1.737099</td>\n",
       "      <td>0.856793</td>\n",
       "    </tr>\n",
       "    <tr>\n",
       "      <th>32619</th>\n",
       "      <td>^SPX</td>\n",
       "      <td>puts</td>\n",
       "      <td>2024-06-28</td>\n",
       "      <td>2800.0</td>\n",
       "      <td>10.10</td>\n",
       "      <td>2023-11-20</td>\n",
       "      <td>False</td>\n",
       "      <td>221</td>\n",
       "      <td>4547.379883</td>\n",
       "      <td>0.218912</td>\n",
       "      <td>0.09704</td>\n",
       "      <td>E</td>\n",
       "      <td>NaN</td>\n",
       "      <td>NaN</td>\n",
       "      <td>NaN</td>\n",
       "      <td>NaN</td>\n",
       "      <td>0.021669</td>\n",
       "      <td>0.997855</td>\n",
       "      <td>0.230872</td>\n",
       "      <td>0.977141</td>\n",
       "    </tr>\n",
       "  </tbody>\n",
       "</table>\n",
       "</div>"
      ],
      "text/plain": [
       "      symbol optionType  expiration  strike  lastPrice lastTradeDate  \\\n",
       "32528   ^SPX       puts  2024-06-21  3075.0      13.45    2023-11-20   \n",
       "32710   ^SPX       puts  2024-07-19  2850.0      12.13    2023-11-20   \n",
       "32619   ^SPX       puts  2024-06-28  2800.0      10.10    2023-11-20   \n",
       "\n",
       "       inTheMoney  maturity           S0     sigma  returns method  \\\n",
       "32528       False       214  4547.379883  0.218912  0.09704      E   \n",
       "32710       False       242  4547.379883  0.218912  0.09704      E   \n",
       "32619       False       221  4547.379883  0.218912  0.09704      E   \n",
       "\n",
       "       LSMC_est_price  LSMC_perc_error  BIN_est_price  BIN_perc_error  \\\n",
       "32528             NaN              NaN            NaN             NaN   \n",
       "32710             NaN              NaN            NaN             NaN   \n",
       "32619             NaN              NaN            NaN             NaN   \n",
       "\n",
       "       BS_est_price  BS_perc_error  MJD_est_price  MJD_perc_error  \n",
       "32528      0.478964       0.964389       0.573804        0.957338  \n",
       "32710      0.268787       0.977841       1.737099        0.856793  \n",
       "32619      0.021669       0.997855       0.230872        0.977141  "
      ]
     },
     "execution_count": 10,
     "metadata": {},
     "output_type": "execute_result"
    }
   ],
   "source": [
    "from datetime import date, timedelta, datetime\n",
    "import pandas as pd\n",
    "import numpy as np\n",
    "import matplotlib.pyplot as plt\n",
    "%matplotlib inline\n",
    "plt.style.use(\"seaborn-v0_8-whitegrid\")\n",
    "\n",
    "est_price_path = './Data/est_prices.csv'\n",
    "df = pd.read_csv(est_price_path, index_col=0)\n",
    "\n",
    "#df = df[df['symbol'] == 'AAPL']\n",
    "df_filtered = df[df.lastPrice > 10]\n",
    "df_one = df_filtered[df_filtered.BS_perc_error >= 0.9]\n",
    "#df_filtered.sort_values('BIN_perc_error')\n",
    "df_one"
   ]
  },
  {
   "cell_type": "code",
   "execution_count": 11,
   "metadata": {},
   "outputs": [
    {
     "data": {
      "image/png": "[encoded data removed]",
      "text/plain": [
       "<Figure size 640x480 with 1 Axes>"
      ]
     },
     "metadata": {},
     "output_type": "display_data"
    },
    {
     "name": "stdout",
     "output_type": "stream",
     "text": [
      "2.8016489242024276 2.8780849932647308\n"
     ]
    }
   ],
   "source": [
    "\n",
    "plt.hist(df_filtered.MJD_perc_error, bins=100)\n",
    "plt.hist(df_filtered.BS_perc_error, bins=100)\n",
    "#plt.hist(BIN_error, bins=100)\n",
    "plt.show()\n",
    "averageBS = np.mean((df_filtered.BS_perc_error)**2)\n",
    "averageMJD = np.mean((df_filtered.MJD_perc_error)**2)\n",
    "print(averageBS, averageMJD)"
   ]
  },
  {
   "cell_type": "code",
   "execution_count": 9,
   "metadata": {},
   "outputs": [
    {
     "data": {
      "image/png": "[encoded data removed]",
      "text/plain": [
       "<Figure size 640x480 with 1 Axes>"
      ]
     },
     "metadata": {},
     "output_type": "display_data"
    },
    {
     "name": "stdout",
     "output_type": "stream",
     "text": [
      "0.23612821171210244 0.162604509188667\n"
     ]
    }
   ],
   "source": [
    "plt.hist(df_filtered.LSMC_perc_error, bins=100)\n",
    "plt.hist(df_filtered.BIN_perc_error, bins=100)\n",
    "#plt.hist(BIN_error, bins=100)\n",
    "plt.show()\n",
    "averageBIN = np.mean((df_filtered.BIN_perc_error)**2)\n",
    "averageLSMC = np.mean((df_filtered.LSMC_perc_error)**2)\n",
    "print(averageBIN, averageLSMC)"
   ]
  }
 ],
 "metadata": {
  "kernelspec": {
   "display_name": "Python 3",
   "language": "python",
   "name": "python3"
  },
  "language_info": {
   "codemirror_mode": {
    "name": "ipython",
    "version": 3
   },
   "file_extension": ".py",
   "mimetype": "text/x-python",
   "name": "python",
   "nbconvert_exporter": "python",
   "pygments_lexer": "ipython3",
   "version": "3.10.2"
  }
 },
 "nbformat": 4,
 "nbformat_minor": 2
}
