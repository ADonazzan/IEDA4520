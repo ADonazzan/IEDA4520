{
 "cells": [
  {
   "cell_type": "code",
   "execution_count": 37,
   "metadata": {},
   "outputs": [],
   "source": [
    "#import libraries\n",
    "import xgboost as xg\n",
    "import pandas as pd\n",
    "from sklearn.tree import DecisionTreeRegressor\n",
    "import numpy as np\n",
    "from sklearn.metrics import mean_squared_error\n",
    "import matplotlib as plt\n",
    "from scipy.stats import norm\n",
    "from sklearn.model_selection import train_test_split, cross_val_score, RepeatedStratifiedKFold, KFold\n",
    "from keras.models import Sequential\n",
    "from keras.layers import Dense, Dropout, Conv1D, MaxPooling1D, Flatten, BatchNormalization\n",
    "from sklearn.metrics import r2_score\n",
    "import data_ML as ML\n",
    "import pickle\n",
    "\n",
    "np.set_printoptions(suppress=True)"
   ]
  },
  {
   "cell_type": "code",
   "execution_count": 4,
   "metadata": {},
   "outputs": [],
   "source": [
    "df = ML.getdata(False)\n"
   ]
  },
  {
   "cell_type": "code",
   "execution_count": 5,
   "metadata": {},
   "outputs": [
    {
     "name": "stdout",
     "output_type": "stream",
     "text": [
      "(1236, 5) (413, 5) (1236, 1) (413, 1)\n"
     ]
    }
   ],
   "source": [
    "def modifydata(df):\n",
    "    data = []\n",
    "    df_calls = df[df.optionType == 1].drop(columns='optionType')\n",
    "    df_american_calls = df_calls[df_calls.method == 1].drop(columns='method')\n",
    "    # df_american_calls = df_american_calls.drop(columns='index')\n",
    "    df_american_calls = df_american_calls[df_american_calls.lastPrice > 5]\n",
    "    # df_american_calls = df_american_calls.drop(columns='index')\n",
    "    y = np.asarray(df_american_calls[['lastPrice']])\n",
    "    df_american_calls = df_american_calls.drop(columns='lastPrice')\n",
    "\n",
    "    for line in range(len(df_american_calls)):\n",
    "        data_tmp = df_american_calls.iloc[line]\n",
    "        data.append(data_tmp)\n",
    "    data = np.asarray(data)\n",
    "\n",
    "    return data, y\n",
    "\n",
    "# df_train = ML.getdata(True)\n",
    "\n",
    "\n",
    "X, y = modifydata(df)\n",
    "# df_train, y_train, full_data2 = modifydata(df_train)\n",
    "X_train, X_test, y_train, y_test = train_test_split(X, y, test_size=0.25, random_state=3)\n",
    "print(X_train.shape, X_test.shape, y_train.shape, y_test.shape)"
   ]
  },
  {
   "cell_type": "code",
   "execution_count": 14,
   "metadata": {},
   "outputs": [
    {
     "name": "stdout",
     "output_type": "stream",
     "text": [
      "(1236, 5) (413, 5) (1236, 1) (413, 1)\n"
     ]
    }
   ],
   "source": [
    "\n",
    "# df_train, y_train, full_data2 = modifydata(df_train)\n",
    "X_train, X_test, y_train, y_test = train_test_split(X, y, test_size=0.25, random_state=3)\n",
    "print(X_train.shape, X_test.shape, y_train.shape, y_test.shape)"
   ]
  },
  {
   "cell_type": "code",
   "execution_count": null,
   "metadata": {},
   "outputs": [
    {
     "name": "stdout",
     "output_type": "stream",
     "text": [
      "Epoch 1/20\n",
      "319/319 [==============================] - 1s 2ms/step - loss: 512.6419 - val_loss: 511.5859\n",
      "Epoch 2/20\n",
      "319/319 [==============================] - 1s 2ms/step - loss: 264.5244 - val_loss: 423.4411\n",
      "Epoch 3/20\n",
      "319/319 [==============================] - 1s 2ms/step - loss: 247.8238 - val_loss: 855.0541\n",
      "Epoch 4/20\n",
      "319/319 [==============================] - 1s 2ms/step - loss: 227.5238 - val_loss: 494.8990\n",
      "Epoch 5/20\n",
      "319/319 [==============================] - 1s 2ms/step - loss: 200.9546 - val_loss: 334.7143\n",
      "Epoch 6/20\n",
      "319/319 [==============================] - 1s 2ms/step - loss: 209.6776 - val_loss: 240.4751\n",
      "Epoch 7/20\n",
      "319/319 [==============================] - 1s 2ms/step - loss: 191.6341 - val_loss: 225.0697\n",
      "Epoch 8/20\n",
      "319/319 [==============================] - 1s 2ms/step - loss: 182.4523 - val_loss: 366.3501\n",
      "Epoch 9/20\n",
      "319/319 [==============================] - 1s 2ms/step - loss: 172.6037 - val_loss: 210.7865\n",
      "Epoch 10/20\n",
      "319/319 [==============================] - 1s 2ms/step - loss: 177.8378 - val_loss: 225.5234\n",
      "Epoch 11/20\n",
      "319/319 [==============================] - 1s 2ms/step - loss: 159.0515 - val_loss: 166.2968\n",
      "Epoch 12/20\n",
      "319/319 [==============================] - 1s 2ms/step - loss: 166.6170 - val_loss: 166.3178\n",
      "Epoch 13/20\n",
      "319/319 [==============================] - 1s 2ms/step - loss: 148.7157 - val_loss: 182.6303\n",
      "Epoch 14/20\n",
      "319/319 [==============================] - 1s 2ms/step - loss: 140.3863 - val_loss: 248.0522\n",
      "Epoch 15/20\n",
      "319/319 [==============================] - 1s 2ms/step - loss: 135.8444 - val_loss: 204.3466\n",
      "Epoch 16/20\n",
      "319/319 [==============================] - 1s 2ms/step - loss: 131.4590 - val_loss: 606.2034\n",
      "Epoch 17/20\n",
      "319/319 [==============================] - 1s 2ms/step - loss: 127.4571 - val_loss: 431.2366\n",
      "Epoch 18/20\n",
      "319/319 [==============================] - 1s 2ms/step - loss: 133.7868 - val_loss: 245.3927\n",
      "Epoch 19/20\n",
      "319/319 [==============================] - 1s 2ms/step - loss: 135.7402 - val_loss: 121.4180\n",
      "Epoch 20/20\n",
      "319/319 [==============================] - 1s 2ms/step - loss: 118.3833 - val_loss: 78.9561\n"
     ]
    }
   ],
   "source": [
    "#ANN with four layers, 10 neurons each\n",
    "#activation function: ReLU\n",
    "\n",
    "model_american_calls = Sequential()\n",
    "model_american_calls.add(Dense(512, input_dim=5, activation='relu'))\n",
    "model_american_calls.add(Dropout(0.2))\n",
    "model_american_calls.add(Dense(256, activation='relu'))\n",
    "model_american_calls.add(Dropout(0.2))\n",
    "model_american_calls.add(Dense(256, activation='relu'))\n",
    "model_american_calls.add(Dropout(0.2))\n",
    "model_american_calls.add(Dense(64, activation='relu'))\n",
    "model_american_calls.add(Dense(1))\n",
    "\n",
    "# model = Sequential()\n",
    "# model.add(Conv1D(filters=32, kernel_size=3, activation='relu', padding='same', input_shape=(X.shape[1], 1)))\n",
    "# model.add(MaxPooling1D(pool_size=2, strides=3))\n",
    "# model.add(Conv1D(filters=16, kernel_size=3, activation='relu', padding='same'))\n",
    "# model.add(MaxPooling1D(pool_size=2, strides=3))\n",
    "# model.add(Flatten())\n",
    "# model.add(Dense(64, activation='relu'))\n",
    "# model.add(Dropout(0.2))\n",
    "# model.add(Dense(1))\n",
    "\n",
    "# model = Sequential()\n",
    "# model.add(Conv1D(filters=32, kernel_size=3, activation='relu', padding='same', input_shape=(X.shape[1], 1)))\n",
    "# model.add(BatchNormalization())\n",
    "# model.add(MaxPooling1D(pool_size=2, strides=3))\n",
    "# model.add(Conv1D(filters=16, kernel_size=3, activation='relu', padding='same'))\n",
    "# model.add(BatchNormalization())\n",
    "# model.add(MaxPooling1D(pool_size=2, strides=3))\n",
    "# model.add(Flatten())\n",
    "# model.add(Dense(64, activation='relu'))\n",
    "# model.add(BatchNormalization())\n",
    "# model.add(Dropout(0.2))\n",
    "# model.add(Dense(1))\n",
    "\n",
    "from keras.callbacks import EarlyStopping\n",
    "\n",
    "early_stop = EarlyStopping(monitor='val_loss', patience=15, verbose=1)\n",
    "\n",
    "# from keras.optimizers import SGD, RMSprop\n",
    "\n",
    "# sgd = SGD(lr=0.01, momentum=0.9)\n",
    "# rmsprop = RMSprop(lr=0.001)\n",
    "\n",
    "# model.compile(optimizer=rmsprop, loss='mse')\n",
    "model_american_calls.compile(optimizer='adam', loss='mse')\n",
    "\n",
    "history = model_american_calls.fit(df_train, y_train, epochs=20, validation_split=0.20)\n",
    "\n"
   ]
  },
  {
   "cell_type": "code",
   "execution_count": null,
   "metadata": {},
   "outputs": [
    {
     "name": "stdout",
     "output_type": "stream",
     "text": [
      "  1/399 [..............................] - ETA: 4s"
     ]
    },
    {
     "name": "stdout",
     "output_type": "stream",
     "text": [
      "399/399 [==============================] - 0s 534us/step\n",
      "6.08928660569831\n"
     ]
    }
   ],
   "source": [
    "#prediction\n",
    "import pandas as pd\n",
    "y_pred = model_american_calls.predict(df_test)\n",
    "\n",
    "\n",
    "db = pd.DataFrame({'prediction':y_pred.tolist(),'real':y_test.tolist()})\n",
    "error = (y_pred - y_test)/y_test\n",
    "db = db.assign(error = error)\n",
    "rmse = np.sqrt(mean_squared_error(y_test, y_pred))\n",
    "print(rmse)\n",
    "db.to_csv('./Data/MLPdata.csv')\n",
    "\n",
    "\n"
   ]
  },
  {
   "cell_type": "code",
   "execution_count": null,
   "metadata": {},
   "outputs": [
    {
     "data": {
      "text/plain": [
       "(3185,)"
      ]
     },
     "execution_count": 107,
     "metadata": {},
     "output_type": "execute_result"
    }
   ],
   "source": [
    "y_test.shape"
   ]
  },
  {
   "cell_type": "code",
   "execution_count": 11,
   "metadata": {},
   "outputs": [
    {
     "data": {
      "text/plain": [
       "12.169540161739228"
      ]
     },
     "execution_count": 11,
     "metadata": {},
     "output_type": "execute_result"
    }
   ],
   "source": [
    "DTR1 = DecisionTreeRegressor()\n",
    "# cvs_DTR = cross_val_score(DTR, df_train, y_train, scoring='neg_root_mean_squared_error', cv=5)\n",
    "# DTR_score = cvs_DTR.mean()\n",
    "# print(DTR_score)\n",
    "\n",
    "DTR1.fit(X_train, y_train)\n",
    "DTR1_pred = DTR1.predict(X_test)\n",
    "DTR1_rmse = np.sqrt(mean_squared_error(y_test, DTR1_pred))\n",
    "DTR1_rmse"
   ]
  },
  {
   "cell_type": "code",
   "execution_count": 13,
   "metadata": {},
   "outputs": [
    {
     "data": {
      "text/html": [
       "<div>\n",
       "<style scoped>\n",
       "    .dataframe tbody tr th:only-of-type {\n",
       "        vertical-align: middle;\n",
       "    }\n",
       "\n",
       "    .dataframe tbody tr th {\n",
       "        vertical-align: top;\n",
       "    }\n",
       "\n",
       "    .dataframe thead th {\n",
       "        text-align: right;\n",
       "    }\n",
       "</style>\n",
       "<table border=\"1\" class=\"dataframe\">\n",
       "  <thead>\n",
       "    <tr style=\"text-align: right;\">\n",
       "      <th></th>\n",
       "      <th>real</th>\n",
       "      <th>prediction</th>\n",
       "    </tr>\n",
       "  </thead>\n",
       "  <tbody>\n",
       "    <tr>\n",
       "      <th>0</th>\n",
       "      <td>157.90</td>\n",
       "      <td>156.20</td>\n",
       "    </tr>\n",
       "    <tr>\n",
       "      <th>1</th>\n",
       "      <td>310.63</td>\n",
       "      <td>303.02</td>\n",
       "    </tr>\n",
       "    <tr>\n",
       "      <th>2</th>\n",
       "      <td>72.11</td>\n",
       "      <td>94.65</td>\n",
       "    </tr>\n",
       "    <tr>\n",
       "      <th>3</th>\n",
       "      <td>145.60</td>\n",
       "      <td>113.50</td>\n",
       "    </tr>\n",
       "    <tr>\n",
       "      <th>4</th>\n",
       "      <td>87.38</td>\n",
       "      <td>85.45</td>\n",
       "    </tr>\n",
       "    <tr>\n",
       "      <th>...</th>\n",
       "      <td>...</td>\n",
       "      <td>...</td>\n",
       "    </tr>\n",
       "    <tr>\n",
       "      <th>408</th>\n",
       "      <td>150.70</td>\n",
       "      <td>150.10</td>\n",
       "    </tr>\n",
       "    <tr>\n",
       "      <th>409</th>\n",
       "      <td>140.26</td>\n",
       "      <td>145.39</td>\n",
       "    </tr>\n",
       "    <tr>\n",
       "      <th>410</th>\n",
       "      <td>73.95</td>\n",
       "      <td>70.09</td>\n",
       "    </tr>\n",
       "    <tr>\n",
       "      <th>411</th>\n",
       "      <td>71.90</td>\n",
       "      <td>73.23</td>\n",
       "    </tr>\n",
       "    <tr>\n",
       "      <th>412</th>\n",
       "      <td>128.78</td>\n",
       "      <td>135.40</td>\n",
       "    </tr>\n",
       "  </tbody>\n",
       "</table>\n",
       "<p>413 rows × 2 columns</p>\n",
       "</div>"
      ],
      "text/plain": [
       "       real  prediction\n",
       "0    157.90      156.20\n",
       "1    310.63      303.02\n",
       "2     72.11       94.65\n",
       "3    145.60      113.50\n",
       "4     87.38       85.45\n",
       "..      ...         ...\n",
       "408  150.70      150.10\n",
       "409  140.26      145.39\n",
       "410   73.95       70.09\n",
       "411   71.90       73.23\n",
       "412  128.78      135.40\n",
       "\n",
       "[413 rows x 2 columns]"
      ]
     },
     "execution_count": 13,
     "metadata": {},
     "output_type": "execute_result"
    }
   ],
   "source": [
    "y_pred = pd.DataFrame(DTR1_pred, columns=['prediction'])\n",
    "final_test = pd.DataFrame(y_test, columns=['real'])\n",
    "\n",
    "final_df = pd.concat((final_test, y_pred), axis=1)\n",
    "final_df"
   ]
  },
  {
   "cell_type": "code",
   "execution_count": 23,
   "metadata": {},
   "outputs": [
    {
     "name": "stdout",
     "output_type": "stream",
     "text": [
      "-5.72053084070279\n"
     ]
    }
   ],
   "source": [
    "\n",
    "XGBr = xg.XGBRegressor(learning_rate=0.1, n_estimators=900)\n",
    "cvs_XGBr = cross_val_score(XGBr, X_train, y_train, scoring='neg_root_mean_squared_error', cv=KFold(n_splits=10))\n",
    "XGBr_score = cvs_XGBr.mean()\n",
    "print(XGBr_score)\n"
   ]
  },
  {
   "cell_type": "code",
   "execution_count": 36,
   "metadata": {},
   "outputs": [
    {
     "ename": "NameError",
     "evalue": "name 'pickle' is not defined",
     "output_type": "error",
     "traceback": [
      "\u001b[0;31m---------------------------------------------------------------------------\u001b[0m",
      "\u001b[0;31mNameError\u001b[0m                                 Traceback (most recent call last)",
      "\u001b[1;32m/Users/amadeuslinge/Library/CloudStorage/OneDrive-HKUSTConnect/Group Project/IEDA4520/ANN.ipynb Cell 11\u001b[0m line \u001b[0;36m5\n\u001b[1;32m      <a href='vscode-notebook-cell:/Users/amadeuslinge/Library/CloudStorage/OneDrive-HKUSTConnect/Group%20Project/IEDA4520/ANN.ipynb#X33sZmlsZQ%3D%3D?line=2'>3</a>\u001b[0m XGBr_rmse \u001b[39m=\u001b[39m np\u001b[39m.\u001b[39msqrt(mean_squared_error(y_test, XGBr_pred))\n\u001b[1;32m      <a href='vscode-notebook-cell:/Users/amadeuslinge/Library/CloudStorage/OneDrive-HKUSTConnect/Group%20Project/IEDA4520/ANN.ipynb#X33sZmlsZQ%3D%3D?line=3'>4</a>\u001b[0m XGBr_rmse\n\u001b[0;32m----> <a href='vscode-notebook-cell:/Users/amadeuslinge/Library/CloudStorage/OneDrive-HKUSTConnect/Group%20Project/IEDA4520/ANN.ipynb#X33sZmlsZQ%3D%3D?line=4'>5</a>\u001b[0m saved_model \u001b[39m=\u001b[39m pickle\u001b[39m.\u001b[39mdumps(XGBr)\n",
      "\u001b[0;31mNameError\u001b[0m: name 'pickle' is not defined"
     ]
    }
   ],
   "source": [
    "XGBr.fit(X_train, y_train)\n",
    "XGBr_pred = XGBr.predict(X_test)\n",
    "XGBr_rmse = np.sqrt(mean_squared_error(y_test, XGBr_pred))\n",
    "XGBr_rmse\n",
    "saved_model = pickle.dumps(XGBr)"
   ]
  },
  {
   "cell_type": "code",
   "execution_count": 34,
   "metadata": {},
   "outputs": [],
   "source": [
    "def xgb_prediction(S_0, r, T, K , sigma):\n",
    "    data = np.asarray([S_0, r, T, K, sigma])\n",
    "    prediction = XGBr.predict(data)\n",
    "    return prediction\n",
    "\n"
   ]
  },
  {
   "cell_type": "code",
   "execution_count": 35,
   "metadata": {},
   "outputs": [
    {
     "ename": "XGBoostError",
     "evalue": "[16:23:41] /Users/runner/work/xgboost/xgboost/src/predictor/cpu_predictor.cc:719: Check failed: m->NumColumns() == model.learner_model_param->num_feature (1 vs. 5) : Number of columns in data must equal to trained model.\nStack trace:\n  [bt] (0) 1   libxgboost.dylib                    0x000000016d4f0998 dmlc::LogMessageFatal::~LogMessageFatal() + 124\n  [bt] (1) 2   libxgboost.dylib                    0x000000016d6f0e60 void xgboost::predictor::CPUPredictor::DispatchedInplacePredict<xgboost::data::ArrayAdapter, 64ul>(std::__1::any const&, std::__1::shared_ptr<xgboost::DMatrix>, xgboost::gbm::GBTreeModel const&, float, xgboost::PredictionCacheEntry*, unsigned int, unsigned int) const + 344\n  [bt] (2) 3   libxgboost.dylib                    0x000000016d6e8068 xgboost::predictor::CPUPredictor::InplacePredict(std::__1::shared_ptr<xgboost::DMatrix>, xgboost::gbm::GBTreeModel const&, float, xgboost::PredictionCacheEntry*, unsigned int, unsigned int) const + 1572\n  [bt] (3) 4   libxgboost.dylib                    0x000000016d61b108 xgboost::gbm::GBTree::InplacePredict(std::__1::shared_ptr<xgboost::DMatrix>, float, xgboost::PredictionCacheEntry*, int, int) const + 432\n  [bt] (4) 5   libxgboost.dylib                    0x000000016d63990c xgboost::LearnerImpl::InplacePredict(std::__1::shared_ptr<xgboost::DMatrix>, xgboost::PredictionType, float, xgboost::HostDeviceVector<float>**, int, int) + 164\n  [bt] (5) 6   libxgboost.dylib                    0x000000016d5141d8 InplacePredictImpl(std::__1::shared_ptr<xgboost::DMatrix>, char const*, xgboost::Learner*, unsigned long long const**, unsigned long long*, float const**) + 276\n  [bt] (6) 7   libxgboost.dylib                    0x000000016d514a8c XGBoosterPredictFromDense + 436\n  [bt] (7) 8   libffi.dylib                        0x0000000198d3e050 ffi_call_SYSV + 80\n  [bt] (8) 9   libffi.dylib                        0x0000000198d46af8 ffi_call_int + 1208\n\n",
     "output_type": "error",
     "traceback": [
      "\u001b[0;31m---------------------------------------------------------------------------\u001b[0m",
      "\u001b[0;31mXGBoostError\u001b[0m                              Traceback (most recent call last)",
      "\u001b[1;32m/Users/amadeuslinge/Library/CloudStorage/OneDrive-HKUSTConnect/Group Project/IEDA4520/ANN.ipynb Cell 13\u001b[0m line \u001b[0;36m1\n\u001b[0;32m----> <a href='vscode-notebook-cell:/Users/amadeuslinge/Library/CloudStorage/OneDrive-HKUSTConnect/Group%20Project/IEDA4520/ANN.ipynb#X45sZmlsZQ%3D%3D?line=0'>1</a>\u001b[0m \u001b[39mprint\u001b[39m(xgb_prediction(\u001b[39m125.7\u001b[39;49m, \u001b[39m0.256\u001b[39;49m, \u001b[39m21\u001b[39;49m\u001b[39m/\u001b[39;49m\u001b[39m365\u001b[39;49m, \u001b[39m50\u001b[39;49m, \u001b[39m0.3326\u001b[39;49m))\n",
      "\u001b[1;32m/Users/amadeuslinge/Library/CloudStorage/OneDrive-HKUSTConnect/Group Project/IEDA4520/ANN.ipynb Cell 13\u001b[0m line \u001b[0;36m3\n\u001b[1;32m      <a href='vscode-notebook-cell:/Users/amadeuslinge/Library/CloudStorage/OneDrive-HKUSTConnect/Group%20Project/IEDA4520/ANN.ipynb#X45sZmlsZQ%3D%3D?line=0'>1</a>\u001b[0m \u001b[39mdef\u001b[39;00m \u001b[39mxgb_prediction\u001b[39m(S_0, r, T, K , sigma):\n\u001b[1;32m      <a href='vscode-notebook-cell:/Users/amadeuslinge/Library/CloudStorage/OneDrive-HKUSTConnect/Group%20Project/IEDA4520/ANN.ipynb#X45sZmlsZQ%3D%3D?line=1'>2</a>\u001b[0m     data \u001b[39m=\u001b[39m np\u001b[39m.\u001b[39masarray([S_0, r, T, K, sigma])\n\u001b[0;32m----> <a href='vscode-notebook-cell:/Users/amadeuslinge/Library/CloudStorage/OneDrive-HKUSTConnect/Group%20Project/IEDA4520/ANN.ipynb#X45sZmlsZQ%3D%3D?line=2'>3</a>\u001b[0m     prediction \u001b[39m=\u001b[39m XGBr\u001b[39m.\u001b[39;49mpredict(data)\n\u001b[1;32m      <a href='vscode-notebook-cell:/Users/amadeuslinge/Library/CloudStorage/OneDrive-HKUSTConnect/Group%20Project/IEDA4520/ANN.ipynb#X45sZmlsZQ%3D%3D?line=3'>4</a>\u001b[0m     \u001b[39mreturn\u001b[39;00m prediction\n",
      "File \u001b[0;32m/Library/Frameworks/Python.framework/Versions/3.11/lib/python3.11/site-packages/xgboost/sklearn.py:1164\u001b[0m, in \u001b[0;36mXGBModel.predict\u001b[0;34m(self, X, output_margin, validate_features, base_margin, iteration_range)\u001b[0m\n\u001b[1;32m   1162\u001b[0m \u001b[39mif\u001b[39;00m \u001b[39mself\u001b[39m\u001b[39m.\u001b[39m_can_use_inplace_predict():\n\u001b[1;32m   1163\u001b[0m     \u001b[39mtry\u001b[39;00m:\n\u001b[0;32m-> 1164\u001b[0m         predts \u001b[39m=\u001b[39m \u001b[39mself\u001b[39;49m\u001b[39m.\u001b[39;49mget_booster()\u001b[39m.\u001b[39;49minplace_predict(\n\u001b[1;32m   1165\u001b[0m             data\u001b[39m=\u001b[39;49mX,\n\u001b[1;32m   1166\u001b[0m             iteration_range\u001b[39m=\u001b[39;49miteration_range,\n\u001b[1;32m   1167\u001b[0m             predict_type\u001b[39m=\u001b[39;49m\u001b[39m\"\u001b[39;49m\u001b[39mmargin\u001b[39;49m\u001b[39m\"\u001b[39;49m \u001b[39mif\u001b[39;49;00m output_margin \u001b[39melse\u001b[39;49;00m \u001b[39m\"\u001b[39;49m\u001b[39mvalue\u001b[39;49m\u001b[39m\"\u001b[39;49m,\n\u001b[1;32m   1168\u001b[0m             missing\u001b[39m=\u001b[39;49m\u001b[39mself\u001b[39;49m\u001b[39m.\u001b[39;49mmissing,\n\u001b[1;32m   1169\u001b[0m             base_margin\u001b[39m=\u001b[39;49mbase_margin,\n\u001b[1;32m   1170\u001b[0m             validate_features\u001b[39m=\u001b[39;49mvalidate_features,\n\u001b[1;32m   1171\u001b[0m         )\n\u001b[1;32m   1172\u001b[0m         \u001b[39mif\u001b[39;00m _is_cupy_array(predts):\n\u001b[1;32m   1173\u001b[0m             \u001b[39mimport\u001b[39;00m \u001b[39mcupy\u001b[39;00m  \u001b[39m# pylint: disable=import-error\u001b[39;00m\n",
      "File \u001b[0;32m/Library/Frameworks/Python.framework/Versions/3.11/lib/python3.11/site-packages/xgboost/core.py:2436\u001b[0m, in \u001b[0;36mBooster.inplace_predict\u001b[0;34m(self, data, iteration_range, predict_type, missing, validate_features, base_margin, strict_shape)\u001b[0m\n\u001b[1;32m   2433\u001b[0m     \u001b[39mfrom\u001b[39;00m \u001b[39m.\u001b[39;00m\u001b[39mdata\u001b[39;00m \u001b[39mimport\u001b[39;00m _ensure_np_dtype\n\u001b[1;32m   2435\u001b[0m     data, _ \u001b[39m=\u001b[39m _ensure_np_dtype(data, data\u001b[39m.\u001b[39mdtype)\n\u001b[0;32m-> 2436\u001b[0m     _check_call(\n\u001b[1;32m   2437\u001b[0m         _LIB\u001b[39m.\u001b[39;49mXGBoosterPredictFromDense(\n\u001b[1;32m   2438\u001b[0m             \u001b[39mself\u001b[39;49m\u001b[39m.\u001b[39;49mhandle,\n\u001b[1;32m   2439\u001b[0m             _array_interface(data),\n\u001b[1;32m   2440\u001b[0m             args,\n\u001b[1;32m   2441\u001b[0m             p_handle,\n\u001b[1;32m   2442\u001b[0m             ctypes\u001b[39m.\u001b[39;49mbyref(shape),\n\u001b[1;32m   2443\u001b[0m             ctypes\u001b[39m.\u001b[39;49mbyref(dims),\n\u001b[1;32m   2444\u001b[0m             ctypes\u001b[39m.\u001b[39;49mbyref(preds),\n\u001b[1;32m   2445\u001b[0m         )\n\u001b[1;32m   2446\u001b[0m     )\n\u001b[1;32m   2447\u001b[0m     \u001b[39mreturn\u001b[39;00m _prediction_output(shape, dims, preds, \u001b[39mFalse\u001b[39;00m)\n\u001b[1;32m   2448\u001b[0m \u001b[39mif\u001b[39;00m \u001b[39misinstance\u001b[39m(data, scipy\u001b[39m.\u001b[39msparse\u001b[39m.\u001b[39mcsr_matrix):\n",
      "File \u001b[0;32m/Library/Frameworks/Python.framework/Versions/3.11/lib/python3.11/site-packages/xgboost/core.py:281\u001b[0m, in \u001b[0;36m_check_call\u001b[0;34m(ret)\u001b[0m\n\u001b[1;32m    270\u001b[0m \u001b[39m\u001b[39m\u001b[39m\"\"\"Check the return value of C API call\u001b[39;00m\n\u001b[1;32m    271\u001b[0m \n\u001b[1;32m    272\u001b[0m \u001b[39mThis function will raise exception when error occurs.\u001b[39;00m\n\u001b[0;32m   (...)\u001b[0m\n\u001b[1;32m    278\u001b[0m \u001b[39m    return value from API calls\u001b[39;00m\n\u001b[1;32m    279\u001b[0m \u001b[39m\"\"\"\u001b[39;00m\n\u001b[1;32m    280\u001b[0m \u001b[39mif\u001b[39;00m ret \u001b[39m!=\u001b[39m \u001b[39m0\u001b[39m:\n\u001b[0;32m--> 281\u001b[0m     \u001b[39mraise\u001b[39;00m XGBoostError(py_str(_LIB\u001b[39m.\u001b[39mXGBGetLastError()))\n",
      "\u001b[0;31mXGBoostError\u001b[0m: [16:23:41] /Users/runner/work/xgboost/xgboost/src/predictor/cpu_predictor.cc:719: Check failed: m->NumColumns() == model.learner_model_param->num_feature (1 vs. 5) : Number of columns in data must equal to trained model.\nStack trace:\n  [bt] (0) 1   libxgboost.dylib                    0x000000016d4f0998 dmlc::LogMessageFatal::~LogMessageFatal() + 124\n  [bt] (1) 2   libxgboost.dylib                    0x000000016d6f0e60 void xgboost::predictor::CPUPredictor::DispatchedInplacePredict<xgboost::data::ArrayAdapter, 64ul>(std::__1::any const&, std::__1::shared_ptr<xgboost::DMatrix>, xgboost::gbm::GBTreeModel const&, float, xgboost::PredictionCacheEntry*, unsigned int, unsigned int) const + 344\n  [bt] (2) 3   libxgboost.dylib                    0x000000016d6e8068 xgboost::predictor::CPUPredictor::InplacePredict(std::__1::shared_ptr<xgboost::DMatrix>, xgboost::gbm::GBTreeModel const&, float, xgboost::PredictionCacheEntry*, unsigned int, unsigned int) const + 1572\n  [bt] (3) 4   libxgboost.dylib                    0x000000016d61b108 xgboost::gbm::GBTree::InplacePredict(std::__1::shared_ptr<xgboost::DMatrix>, float, xgboost::PredictionCacheEntry*, int, int) const + 432\n  [bt] (4) 5   libxgboost.dylib                    0x000000016d63990c xgboost::LearnerImpl::InplacePredict(std::__1::shared_ptr<xgboost::DMatrix>, xgboost::PredictionType, float, xgboost::HostDeviceVector<float>**, int, int) + 164\n  [bt] (5) 6   libxgboost.dylib                    0x000000016d5141d8 InplacePredictImpl(std::__1::shared_ptr<xgboost::DMatrix>, char const*, xgboost::Learner*, unsigned long long const**, unsigned long long*, float const**) + 276\n  [bt] (6) 7   libxgboost.dylib                    0x000000016d514a8c XGBoosterPredictFromDense + 436\n  [bt] (7) 8   libffi.dylib                        0x0000000198d3e050 ffi_call_SYSV + 80\n  [bt] (8) 9   libffi.dylib                        0x0000000198d46af8 ffi_call_int + 1208\n\n"
     ]
    }
   ],
   "source": [
    "print(xgb_prediction(125.7, 0.256, 21/365, 50, 0.3326))"
   ]
  }
 ],
 "metadata": {
  "kernelspec": {
   "display_name": "Python 3",
   "language": "python",
   "name": "python3"
  },
  "language_info": {
   "codemirror_mode": {
    "name": "ipython",
    "version": 3
   },
   "file_extension": ".py",
   "mimetype": "text/x-python",
   "name": "python",
   "nbconvert_exporter": "python",
   "pygments_lexer": "ipython3",
   "version": "3.10.2"
  }
 },
 "nbformat": 4,
 "nbformat_minor": 2
}
