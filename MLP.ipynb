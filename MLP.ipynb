{
 "cells": [
  {
   "cell_type": "code",
   "execution_count": 3,
   "metadata": {},
   "outputs": [],
   "source": [
    "import numpy as np\n",
    "import torch\n",
    "import torch.nn as nn\n",
    "import torch.nn.functional as F\n",
    "from torch.utils.data import DataLoader, Subset\n",
    "from torchvision import datasets, transforms \n",
    "from sklearn.model_selection import train_test_split\n",
    "import matplotlib.pyplot as plt"
   ]
  },
  {
   "cell_type": "code",
   "execution_count": 14,
   "metadata": {},
   "outputs": [],
   "source": [
    "# define data\n",
    "train_loader = [3, 4, 5, 6, 7, 8] #data for training\n",
    "val_loader = [2, 4, 5, 7, 8, 9] #data for validation\n",
    "test_loader = [1, 2, 3, 4, 5, 6] #true data we want to do calculations on, the newest data"
   ]
  },
  {
   "cell_type": "code",
   "execution_count": 4,
   "metadata": {},
   "outputs": [],
   "source": [
    "class MLP(nn.Module):\n",
    "    def __init__(self, input_size, hidden_size, output_size):\n",
    "        super(MLP, self).__init__()\n",
    "        self.layers = nn.ModuleList()\n",
    "        self.relu = nn.ReLU()\n",
    "        \n",
    "        #Begining of implement here\n",
    "        \n",
    "        self.layer1 = nn.Linear(input_size, hidden_size)\n",
    "        self.layer2 = nn.Linear(hidden_size, hidden_size)\n",
    "        self.layer3 = nn.Linear(hidden_size, hidden_size)\n",
    "        self.layer4 = nn.Linear(hidden_size, hidden_size)\n",
    "        self.layer5 = nn.Linear(hidden_size, output_size)\n",
    "\n",
    "    def forward(self, x):   \n",
    "        out = self.layer1(x)\n",
    "        out = self.relu(out)\n",
    "        out = self.layer2(out)\n",
    "        out = self.relu(out)\n",
    "        out = self.layer3(out)\n",
    "        out = self.relu(out)\n",
    "        out = self.layer4(out)\n",
    "        out = self.relu(out)\n",
    "        out = self.layer5(out)\n",
    "        return out"
   ]
  },
  {
   "cell_type": "code",
   "execution_count": 11,
   "metadata": {},
   "outputs": [],
   "source": [
    "#Train model\n",
    "def train(model, criterion, optimizer, train_loader, val_loader, n_epochs):\n",
    "    train_acc, val_acc = [], []\n",
    "    for epoch in range(n_epochs):\n",
    "        model.train()\n",
    "        correct, total = 1, 1\n",
    "        for idx, (inputs, labels) in enumerate(train_loader): #This must be changed\n",
    "            #128, 1, 28, 28 to \n",
    "            #128, 784\n",
    "            inputs, labels = inputs.reshape(128, 28*28), labels #reshaping the input vector and sending to device\n",
    "\n",
    "            #Forward pass\n",
    "            output = model(inputs)\n",
    "            loss = criterion(output, labels)\n",
    "            \n",
    "            #Backward pass\n",
    "            optimizer.zero_grad()\n",
    "            loss.backward()\n",
    "            optimizer.step()\n",
    "\n",
    "            #Predicted data\n",
    "            output = model(inputs)\n",
    "            _, predicted = torch.max(output, 1)\n",
    "\n",
    "            correct += (predicted == labels).sum().item()\n",
    "            total += labels.size(0)\n",
    "\n",
    "            if idx % 100 == 0:\n",
    "                print(f'epoch: {epoch} / {n_epochs}, step {idx}, loss: {loss:.2f}, train_acc: {(correct/total):.2f}')\n",
    "    \n",
    "        train_acc.append(correct/total)\n",
    "\n",
    "        correct, total = 1, 1\n",
    "        with torch.no_grad():\n",
    "            for inputs, labels in val_loader:\n",
    "                inputs, labels = inputs.reshape(-1, 28*28), labels\n",
    "                \n",
    "                #Obtaining outpuuts and preiction for evalutaion of model\n",
    "                outputs = model(inputs)\n",
    "                _, predicted = torch.max(outputs, 1)\n",
    "\n",
    "                correct += (predicted == labels).sum().item()\n",
    "                total += labels.size(0)\n",
    "\n",
    "        val_acc.append(correct/total)\n",
    "        print(f'Accuracy = {train_acc}')\n",
    "\n",
    "    return train_acc, val_acc"
   ]
  },
  {
   "cell_type": "code",
   "execution_count": 12,
   "metadata": {},
   "outputs": [],
   "source": [
    "#Test function\n",
    "def test(model, test_loader):\n",
    "    model.eval()\n",
    "    correct, total = 1, 1\n",
    "    with torch.no_grad():\n",
    "        for inputs, labels in test_loader:\n",
    "            inputs, labels = inputs.reshape(-1, 28*28), labels #reshaping the input vector and sending input and label to device\n",
    "\n",
    "            #Obtaining output and prediction \n",
    "            output = model(inputs)\n",
    "            _, predicted = torch.max(output, 1)\n",
    "\n",
    "            correct += (predicted == labels).sum().item()\n",
    "            total += labels.size(0)\n",
    "            \n",
    "    return correct/total"
   ]
  },
  {
   "cell_type": "code",
   "execution_count": 9,
   "metadata": {},
   "outputs": [],
   "source": [
    "#Hyperparameters\n",
    "input_size = 5 #size of vector containing parameters of option price\n",
    "hidden_size = 32\n",
    "output_size = 1 #output is a price of a option at a specific date\n",
    "n_epochs = 5 #number of runs through the neural network\n",
    "lr = 0.01"
   ]
  },
  {
   "cell_type": "code",
   "execution_count": 15,
   "metadata": {},
   "outputs": [
    {
     "ename": "TypeError",
     "evalue": "cannot unpack non-iterable int object",
     "output_type": "error",
     "traceback": [
      "\u001b[0;31m---------------------------------------------------------------------------\u001b[0m",
      "\u001b[0;31mTypeError\u001b[0m                                 Traceback (most recent call last)",
      "\u001b[1;32m/Users/amadeuslinge/Library/CloudStorage/OneDrive-HKUSTConnect/Group Project/IEDA4520/MLP.ipynb Cell 7\u001b[0m line \u001b[0;36m4\n\u001b[1;32m      <a href='vscode-notebook-cell:/Users/amadeuslinge/Library/CloudStorage/OneDrive-HKUSTConnect/Group%20Project/IEDA4520/MLP.ipynb#W6sZmlsZQ%3D%3D?line=1'>2</a>\u001b[0m criterion \u001b[39m=\u001b[39m nn\u001b[39m.\u001b[39mCrossEntropyLoss()\n\u001b[1;32m      <a href='vscode-notebook-cell:/Users/amadeuslinge/Library/CloudStorage/OneDrive-HKUSTConnect/Group%20Project/IEDA4520/MLP.ipynb#W6sZmlsZQ%3D%3D?line=2'>3</a>\u001b[0m optimizer \u001b[39m=\u001b[39m torch\u001b[39m.\u001b[39moptim\u001b[39m.\u001b[39mAdam(model\u001b[39m.\u001b[39mparameters(), lr\u001b[39m=\u001b[39mlr)\n\u001b[0;32m----> <a href='vscode-notebook-cell:/Users/amadeuslinge/Library/CloudStorage/OneDrive-HKUSTConnect/Group%20Project/IEDA4520/MLP.ipynb#W6sZmlsZQ%3D%3D?line=3'>4</a>\u001b[0m train_acc, val_acc \u001b[39m=\u001b[39m train(model, criterion, optimizer, train_loader, val_loader, n_epochs)\n\u001b[1;32m      <a href='vscode-notebook-cell:/Users/amadeuslinge/Library/CloudStorage/OneDrive-HKUSTConnect/Group%20Project/IEDA4520/MLP.ipynb#W6sZmlsZQ%3D%3D?line=4'>5</a>\u001b[0m test_acc \u001b[39m=\u001b[39m test(model, test_loader)\n\u001b[1;32m      <a href='vscode-notebook-cell:/Users/amadeuslinge/Library/CloudStorage/OneDrive-HKUSTConnect/Group%20Project/IEDA4520/MLP.ipynb#W6sZmlsZQ%3D%3D?line=5'>6</a>\u001b[0m plt\u001b[39m.\u001b[39mplot(train_acc, label\u001b[39m=\u001b[39m\u001b[39m'\u001b[39m\u001b[39mTrain Acc\u001b[39m\u001b[39m'\u001b[39m)\n",
      "\u001b[1;32m/Users/amadeuslinge/Library/CloudStorage/OneDrive-HKUSTConnect/Group Project/IEDA4520/MLP.ipynb Cell 7\u001b[0m line \u001b[0;36m7\n\u001b[1;32m      <a href='vscode-notebook-cell:/Users/amadeuslinge/Library/CloudStorage/OneDrive-HKUSTConnect/Group%20Project/IEDA4520/MLP.ipynb#W6sZmlsZQ%3D%3D?line=4'>5</a>\u001b[0m model\u001b[39m.\u001b[39mtrain()\n\u001b[1;32m      <a href='vscode-notebook-cell:/Users/amadeuslinge/Library/CloudStorage/OneDrive-HKUSTConnect/Group%20Project/IEDA4520/MLP.ipynb#W6sZmlsZQ%3D%3D?line=5'>6</a>\u001b[0m correct, total \u001b[39m=\u001b[39m \u001b[39m1\u001b[39m, \u001b[39m1\u001b[39m\n\u001b[0;32m----> <a href='vscode-notebook-cell:/Users/amadeuslinge/Library/CloudStorage/OneDrive-HKUSTConnect/Group%20Project/IEDA4520/MLP.ipynb#W6sZmlsZQ%3D%3D?line=6'>7</a>\u001b[0m \u001b[39mfor\u001b[39;00m idx, (inputs, labels) \u001b[39min\u001b[39;00m \u001b[39menumerate\u001b[39m(train_loader): \u001b[39m#This must be changed\u001b[39;00m\n\u001b[1;32m      <a href='vscode-notebook-cell:/Users/amadeuslinge/Library/CloudStorage/OneDrive-HKUSTConnect/Group%20Project/IEDA4520/MLP.ipynb#W6sZmlsZQ%3D%3D?line=7'>8</a>\u001b[0m     \u001b[39m#128, 1, 28, 28 to \u001b[39;00m\n\u001b[1;32m      <a href='vscode-notebook-cell:/Users/amadeuslinge/Library/CloudStorage/OneDrive-HKUSTConnect/Group%20Project/IEDA4520/MLP.ipynb#W6sZmlsZQ%3D%3D?line=8'>9</a>\u001b[0m     \u001b[39m#128, 784\u001b[39;00m\n\u001b[1;32m     <a href='vscode-notebook-cell:/Users/amadeuslinge/Library/CloudStorage/OneDrive-HKUSTConnect/Group%20Project/IEDA4520/MLP.ipynb#W6sZmlsZQ%3D%3D?line=9'>10</a>\u001b[0m     inputs, labels \u001b[39m=\u001b[39m inputs\u001b[39m.\u001b[39mreshape(\u001b[39m128\u001b[39m, \u001b[39m28\u001b[39m\u001b[39m*\u001b[39m\u001b[39m28\u001b[39m), labels \u001b[39m#reshaping the input vector and sending to device\u001b[39;00m\n\u001b[1;32m     <a href='vscode-notebook-cell:/Users/amadeuslinge/Library/CloudStorage/OneDrive-HKUSTConnect/Group%20Project/IEDA4520/MLP.ipynb#W6sZmlsZQ%3D%3D?line=11'>12</a>\u001b[0m     \u001b[39m#Forward pass\u001b[39;00m\n",
      "\u001b[0;31mTypeError\u001b[0m: cannot unpack non-iterable int object"
     ]
    }
   ],
   "source": [
    "model = MLP(input_size, hidden_size, output_size)\n",
    "criterion = nn.CrossEntropyLoss()\n",
    "optimizer = torch.optim.Adam(model.parameters(), lr=lr)\n",
    "train_acc, val_acc = train(model, criterion, optimizer, train_loader, val_loader, n_epochs)\n",
    "test_acc = test(model, test_loader)\n",
    "plt.plot(train_acc, label='Train Acc')\n",
    "plt.plot(val_acc, label='Val acc')\n",
    "plt.legend(loc='lower right')\n",
    "plt.title(f'Test acc: {test_acc}')\n",
    "plt.xlabel('epoch')\n",
    "plt.ylabel('accuracy')\n",
    "plt.show()"
   ]
  }
 ],
 "metadata": {
  "kernelspec": {
   "display_name": "Python 3",
   "language": "python",
   "name": "python3"
  },
  "language_info": {
   "codemirror_mode": {
    "name": "ipython",
    "version": 3
   },
   "file_extension": ".py",
   "mimetype": "text/x-python",
   "name": "python",
   "nbconvert_exporter": "python",
   "pygments_lexer": "ipython3",
   "version": "3.11.5"
  }
 },
 "nbformat": 4,
 "nbformat_minor": 2
}
