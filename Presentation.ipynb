{
 "cells": [
  {
   "cell_type": "markdown",
   "metadata": {
    "slideshow": {
     "slide_type": "skip"
    }
   },
   "source": [
    "convert to presentation: jupyter nbconvert Presentation.ipynb --to slides --no-prompt\n",
    "jupyter nbconvert Presentation.ipynb --to slides --post serve"
   ]
  },
  {
   "cell_type": "markdown",
   "metadata": {
    "slideshow": {
     "slide_type": "slide"
    }
   },
   "source": [
    "*Andrea Donazzan, Amadeus Lars Linge*\n",
    "# Empirical Comparison of Option Pricing Models\n",
    "Compare various techniques of option pricing estimation by using real market data"
   ]
  },
  {
   "cell_type": "markdown",
   "metadata": {
    "slideshow": {
     "slide_type": "slide"
    }
   },
   "source": [
    "## Content\n",
    "- Data collection\n",
    "- Monte Carlo pricing models\n",
    "- Calibration\n",
    "- Pricing with Machine Learning\n",
    "- Results"
   ]
  },
  {
   "cell_type": "markdown",
   "metadata": {
    "slideshow": {
     "slide_type": "slide"
    }
   },
   "source": [
    "## Data Collection\n",
    "**Goal:** build database with market price of options and information about underlying\n",
    "\n",
    "Stock data: yfinance\\\n",
    "Option data: yahooquery"
   ]
  },
  {
   "cell_type": "code",
   "execution_count": null,
   "metadata": {},
   "outputs": [],
   "source": [
    "from yahooquery import Ticker\n",
    "Ticker('AAPL').option_chain"
   ]
  },
  {
   "cell_type": "markdown",
   "metadata": {},
   "source": [
    "<center><img src=\"./Presentation%20files/Option_Chain.png\"/></center>"
   ]
  },
  {
   "cell_type": "markdown",
   "metadata": {
    "slideshow": {
     "slide_type": "slide"
    }
   },
   "source": [
    "## Modifying Option Chain\n",
    "Add price of underlying, historical variablility, option maturity"
   ]
  },
  {
   "cell_type": "code",
   "execution_count": null,
   "metadata": {},
   "outputs": [],
   "source": [
    "import Data\n",
    "Data.GetData('2018,11,22', '2022,11,22', 252, False)"
   ]
  },
  {
   "cell_type": "markdown",
   "metadata": {},
   "source": [
    "<center><img src=\"./Presentation%20files/Data_df.png\"/></center>"
   ]
  },
  {
   "cell_type": "markdown",
   "metadata": {
    "slideshow": {
     "slide_type": "slide"
    }
   },
   "source": [
    "# Pricing Models\n",
    "European Options: \n",
    "- **Black Scholes** Model (GMB) \n",
    "- Merton's **Jump Diffusion** (GMB with Poisson)\n",
    "\n",
    "American Options: \n",
    "- **Cox-Ross-Rubinstein** Model (Binomial Tree)\n",
    "- **Longstaff-Schwartz** Model (Least Squares Monte Carlo)"
   ]
  },
  {
   "cell_type": "markdown",
   "metadata": {
    "slideshow": {
     "slide_type": "slide"
    }
   },
   "source": [
    "## Black Scholes\n",
    "$$\n",
    "S(t_{i+1})=S(t_i)\\exp\\left(\\left(\\mu - \\frac{\\sigma}{2}\\right)\\Delta t + \\sigma \\sqrt{\\Delta t} Z_{i+1}\\right)\n",
    "$$\n",
    "## Jump Diffusion\n",
    "$$\n",
    "S(t_{i+1})=S(t_i)\\exp\\left(\\left(\\mu - \\frac{\\sigma}{2}\\right)\\Delta t + \\sigma \\sqrt{\\Delta t} Z_{i+1} + aN_{i+1}+b\\sqrt{N_{i+1}}Z_{i+1}' \\right)\\\\\n",
    "\\quad\n",
    "\\\\\n",
    "\\text{with } N_i \\sim \\text{Pois}(\\lambda \\Delta t)\n",
    "$$"
   ]
  },
  {
   "cell_type": "markdown",
   "metadata": {
    "slideshow": {
     "slide_type": "slide"
    }
   },
   "source": [
    "## American Options\n",
    "Allow for **early exercise**: \n",
    "\n",
    "The value at each time step is the maximum between the payoff of exercising the option at that time step (early exercise value) and the expected value of holding the option to maturity (continuation value).\n",
    "\n",
    "For an **American call** option:\n",
    "$$\n",
    "O_t^i = \\max\\left((S_t^i - K)^+,\\: e^{-(T-t)r}(E[S_T|S_t^i] - K)^+ \\right)\n",
    "$$"
   ]
  },
  {
   "cell_type": "markdown",
   "metadata": {
    "slideshow": {
     "slide_type": "slide"
    }
   },
   "source": [
    "## Binomial Trees 1: Simulate Stock Value\n",
    "Stock price can:\n",
    "- Move up to $uS_{0}$ with probability $q$\n",
    "- Move down to $uS_{0}$ with probability $(1-q)$\n",
    "$$\n",
    "u = e^{\\sigma \\sqrt{\\Delta t}}\n",
    "\\qquad\n",
    "d = e^{-\\sigma \\sqrt{\\Delta t}} = \\frac{1}{u}\n",
    "\\qquad\n",
    "q = \\frac{e^{r\\Delta t}-d}{u-d}\\\\\n",
    "$$\n",
    "Fill the best outcome nodes of the tree with $S_{i,0} = u S_{i-1,0}$ and the others with $S_{i,j}=d S_{i-1,j-1}$"
   ]
  },
  {
   "cell_type": "markdown",
   "metadata": {},
   "source": [
    "<center><img src=\"./Presentation%20files/Stock_tree.png\" width=\"400\"/></center>"
   ]
  },
  {
   "cell_type": "code",
   "execution_count": 8,
   "metadata": {
    "slideshow": {
     "slide_type": "skip"
    }
   },
   "outputs": [],
   "source": [
    "import numpy as np\n",
    "import pandas as pd\n",
    "import dataframe_image as dfi\n",
    "N = 4\n",
    "S0 = 1\n",
    "dt = 1\n",
    "sigma = 0.2\n",
    "u = np.exp(sigma*np.sqrt(dt))\n",
    "d = 1/u\n",
    "K = 1.1\n",
    "r = 0.1\n",
    "q = (np.exp(r*dt) - d) / (u - d)\n",
    "stock_tree = np.zeros((N+1, N+1))\n",
    "stock_tree[0, 0] = S0\n",
    "\n",
    "for i in range(1, N+1):\n",
    "    stock_tree[i, 0] = stock_tree[i-1, 0] * u\n",
    "    for j in range(1, i+1):\n",
    "        stock_tree[i, j] = stock_tree[i-1, j-1] * d\n",
    "\n",
    "pd.DataFrame(stock_tree)\n",
    "# ![Binomial tree](./Presentation%20files/Binomial_tree.png)\n",
    "dfi.export(pd.DataFrame(stock_tree).round(decimals = 3), './Presentation files/Stock_tree.png', dpi = 300)"
   ]
  },
  {
   "cell_type": "markdown",
   "metadata": {
    "slideshow": {
     "slide_type": "slide"
    }
   },
   "source": [
    "## Binomial Trees 2: Compute Option Price\n",
    "Start from end of tree and move upwards:\n",
    "\n",
    "At maturity, compute value as $\\max(S_{T,j}-K, 0) $\n",
    "\n",
    "For each previous node compute \n",
    "$$\n",
    "\\quad O_{i,j} = \\max \\left(\\underbrace{e^{-r\\Delta t}(qO_{(i+1),j}+(1-q)O_{(i+1),(j+1)})}_\\text{continuation value},\\; \\underbrace{S_{i,j}-K}_\\text{immediate exercise}\\right)\n",
    "$$"
   ]
  },
  {
   "cell_type": "markdown",
   "metadata": {},
   "source": [
    "<center><img src=\"./Presentation%20files/Option_tree.png\" width=\"250\"/></center>"
   ]
  },
  {
   "cell_type": "code",
   "execution_count": 9,
   "metadata": {
    "slideshow": {
     "slide_type": "skip"
    }
   },
   "outputs": [],
   "source": [
    "option_tree = np.zeros((N+1, N+1))\n",
    "for j in range(N+1):\n",
    "    option_tree[N, j] = max(stock_tree[N, j] - K, 0)\n",
    "\n",
    "for i in range(N-1, -1, -1):\n",
    "    for j in range(i+1):\n",
    "        option_tree[i, j] = max(np.exp(-r*dt) * (q * option_tree[i+1, j] + (1-q) * option_tree[i+1, j+1]), stock_tree[i, j] - K)\n",
    "\n",
    "pd.DataFrame(option_tree).round(decimals = 2)\n",
    "dfi.export(pd.DataFrame(option_tree).round(decimals = 3), './Presentation files/Option_tree.png', dpi = 300)\n"
   ]
  },
  {
   "cell_type": "markdown",
   "metadata": {
    "slideshow": {
     "slide_type": "slide"
    }
   },
   "source": [
    "## Longstaff-Schwartz algorithm\n",
    "- Proposed in **Longstaff and Schwartz (2001)**.\n",
    "- Computes price of options that can be exercised before maturity.\n",
    "- Uses least-squares regression to estimate conditional expectations."
   ]
  },
  {
   "cell_type": "markdown",
   "metadata": {
    "slideshow": {
     "slide_type": "slide"
    }
   },
   "source": [
    "## Motivation: Why do we need the LSMC algorithm?\n",
    "\n",
    "- How can we evaluate the **continuation value** $E[S_T|S_t^i]$?\n",
    "\n",
    "    Nested Monte Carlo simulations for every $S_t^i$ until maturity &rarr; **unfeasible** for large numbers\n",
    "    \n",
    "- Binomial Tree: high discretization error if used with long time steps.\n",
    "\n",
    "    Will **underestimate** the number of **early exercise opportunities** as it only provides two outcomes for the value of the underlying.\n",
    "\n",
    "    On the other hand, time complexity: $O(2^n)$"
   ]
  },
  {
   "cell_type": "markdown",
   "metadata": {
    "slideshow": {
     "slide_type": "slide"
    }
   },
   "source": [
    "# Calibration"
   ]
  },
  {
   "cell_type": "markdown",
   "metadata": {
    "slideshow": {
     "slide_type": "slide"
    }
   },
   "source": [
    "## Jump Diffusion Calibration\n",
    "Parameters:\n",
    "- $\\lambda$ &rarr; rate of Poisson process \n",
    "- $a$ and $b$ &rarr; size of the jump\n",
    "\n",
    "Test different values for each parameter holding the other two constant \n",
    "Compute mean squared error of estimated prices\n",
    "<table style=\"width:100%\"><tr>\n",
    "<td> <img src=\"./Presentation files/MJD_lambda_error.png\"/> </td>\n",
    "<td> <img src=\"./Presentation files/MJD_a_error.png\"/> </td>\n",
    "<td> <img src=\"./Presentation files/MJD_b_error.png\" /> </td>\n",
    "</tr></table>\n",
    "\n",
    "$\\lambda = 0.075, a = -0.1, b = 0.05$"
   ]
  },
  {
   "cell_type": "markdown",
   "metadata": {
    "slideshow": {
     "slide_type": "skip"
    }
   },
   "source": [
    "\n",
    "\n",
    "<table style=\"width:100%\">\n",
    "    <tr>\n",
    "        <img src=\"./Presentation files/MJD_lambda_error.png\"  width=\"200\">\n",
    "        <img src=\"./Presentation files/MJD_a_error.png\"  width=\"200\">\n",
    "        <img src=\"./Presentation files/MJD_b_error.png\"  width=\"200\">\n",
    "    </tr>\n",
    "</table>"
   ]
  },
  {
   "cell_type": "markdown",
   "metadata": {},
   "source": [
    "## Interest rate and Standard Deviation calibration\n"
   ]
  },
  {
   "cell_type": "code",
   "execution_count": 1,
   "metadata": {},
   "outputs": [
    {
     "ename": "KeyboardInterrupt",
     "evalue": "",
     "output_type": "error",
     "traceback": [
      "\u001b[0;31m---------------------------------------------------------------------------\u001b[0m",
      "\u001b[0;31mKeyboardInterrupt\u001b[0m                         Traceback (most recent call last)",
      "\u001b[1;32m/Users/andreadonazzan/Library/CloudStorage/OneDrive-HKUSTConnect/IEDA 4520 Project/IEDA4520/Presentation.ipynb Cell 25\u001b[0m line \u001b[0;36m1\n\u001b[0;32m----> <a href='vscode-notebook-cell:/Users/andreadonazzan/Library/CloudStorage/OneDrive-HKUSTConnect/IEDA%204520%20Project/IEDA4520/Presentation.ipynb#X33sZmlsZQ%3D%3D?line=0'>1</a>\u001b[0m \u001b[39mimport\u001b[39;00m \u001b[39mPrice_Models\u001b[39;00m \u001b[39mas\u001b[39;00m \u001b[39mpm\u001b[39;00m\n\u001b[1;32m      <a href='vscode-notebook-cell:/Users/andreadonazzan/Library/CloudStorage/OneDrive-HKUSTConnect/IEDA%204520%20Project/IEDA4520/Presentation.ipynb#X33sZmlsZQ%3D%3D?line=1'>2</a>\u001b[0m \u001b[39mimport\u001b[39;00m \u001b[39mData\u001b[39;00m\n\u001b[1;32m      <a href='vscode-notebook-cell:/Users/andreadonazzan/Library/CloudStorage/OneDrive-HKUSTConnect/IEDA%204520%20Project/IEDA4520/Presentation.ipynb#X33sZmlsZQ%3D%3D?line=2'>3</a>\u001b[0m \u001b[39mfrom\u001b[39;00m \u001b[39mdatetime\u001b[39;00m \u001b[39mimport\u001b[39;00m date, datetime, timedelta\n",
      "File \u001b[0;32m~/Library/CloudStorage/OneDrive-HKUSTConnect/IEDA 4520 Project/IEDA4520/Price_Models.py:3\u001b[0m\n\u001b[1;32m      1\u001b[0m \u001b[39mimport\u001b[39;00m \u001b[39mnumpy\u001b[39;00m \u001b[39mas\u001b[39;00m \u001b[39mnp\u001b[39;00m\n\u001b[1;32m      2\u001b[0m \u001b[39mimport\u001b[39;00m \u001b[39mscipy\u001b[39;00m\u001b[39m.\u001b[39;00m\u001b[39mstats\u001b[39;00m \u001b[39mas\u001b[39;00m \u001b[39mstats\u001b[39;00m\n\u001b[0;32m----> 3\u001b[0m \u001b[39mimport\u001b[39;00m \u001b[39mML_pricing\u001b[39;00m \u001b[39mas\u001b[39;00m \u001b[39mML\u001b[39;00m\n\u001b[1;32m      5\u001b[0m nPaths \u001b[39m=\u001b[39m \u001b[39m1000\u001b[39m\n\u001b[1;32m      6\u001b[0m \u001b[39m'''\u001b[39;00m\n\u001b[1;32m      7\u001b[0m \u001b[39m----------------------------------------\u001b[39;00m\n\u001b[1;32m      8\u001b[0m \u001b[39mBlack Scholes model for european options\u001b[39;00m\n\u001b[1;32m      9\u001b[0m \u001b[39m----------------------------------------\u001b[39;00m\n\u001b[1;32m     10\u001b[0m \u001b[39m'''\u001b[39;00m\n",
      "File \u001b[0;32m~/Library/CloudStorage/OneDrive-HKUSTConnect/IEDA 4520 Project/IEDA4520/ML_pricing.py:17\u001b[0m\n\u001b[1;32m     15\u001b[0m XGBr_model_am_calls \u001b[39m=\u001b[39m pickle\u001b[39m.\u001b[39mload(\u001b[39mopen\u001b[39m(filename1, \u001b[39m'\u001b[39m\u001b[39mrb\u001b[39m\u001b[39m'\u001b[39m))\n\u001b[1;32m     16\u001b[0m XGBr_model_am_puts \u001b[39m=\u001b[39m pickle\u001b[39m.\u001b[39mload(\u001b[39mopen\u001b[39m(filename2, \u001b[39m'\u001b[39m\u001b[39mrb\u001b[39m\u001b[39m'\u001b[39m))\n\u001b[0;32m---> 17\u001b[0m XGBr_model_eu_calls \u001b[39m=\u001b[39m pickle\u001b[39m.\u001b[39;49mload(\u001b[39mopen\u001b[39;49m(eu_file1, \u001b[39m'\u001b[39;49m\u001b[39mrb\u001b[39;49m\u001b[39m'\u001b[39;49m))\n\u001b[1;32m     18\u001b[0m XGBr_model_eu_puts \u001b[39m=\u001b[39m pickle\u001b[39m.\u001b[39mload(\u001b[39mopen\u001b[39m(eu_file2, \u001b[39m'\u001b[39m\u001b[39mrb\u001b[39m\u001b[39m'\u001b[39m))\n\u001b[1;32m     19\u001b[0m model_american_calls \u001b[39m=\u001b[39m load_model(\u001b[39m\"\u001b[39m\u001b[39m./Saved_ML_models/model_american_calls.h5\u001b[39m\u001b[39m\"\u001b[39m)\n",
      "\u001b[0;31mKeyboardInterrupt\u001b[0m: "
     ]
    }
   ],
   "source": [
    "import Price_Models as pm\n",
    "import Data\n",
    "from datetime import date, datetime, timedelta\n",
    "from tqdm import tqdm\n",
    "start_date = date(2018,11,7)\n",
    "end_date = datetime.today()\n",
    "df_end = end_date + timedelta(days=1) #Add one day as yf functions don't include last day\n",
    "df_end = df_end.date()"
   ]
  },
  {
   "cell_type": "code",
   "execution_count": 7,
   "metadata": {},
   "outputs": [
    {
     "name": "stdout",
     "output_type": "stream",
     "text": [
      "Create portable serialized representations of Python objects.\n",
      "\n",
      "See module copyreg for a mechanism for registering custom picklers.\n",
      "See module pickletools source for extensive comments.\n",
      "\n",
      "Classes:\n",
      "\n",
      "    Pickler\n",
      "    Unpickler\n",
      "\n",
      "Functions:\n",
      "\n",
      "    dump(object, file)\n",
      "    dumps(object) -> string\n",
      "    load(file) -> object\n",
      "    loads(bytes) -> object\n",
      "\n",
      "Misc variables:\n",
      "\n",
      "    __version__\n",
      "    format_version\n",
      "    compatible_formats\n",
      "\n",
      "\n"
     ]
    }
   ],
   "source": [
    "import pickle\n",
    "print(pickle.__doc__)"
   ]
  },
  {
   "cell_type": "code",
   "execution_count": 8,
   "metadata": {},
   "outputs": [
    {
     "name": "stdout",
     "output_type": "stream",
     "text": [
      "imported pickle\n"
     ]
    }
   ],
   "source": [
    "# from keras.models import load_model\n",
    "import numpy as np\n",
    "# from keras.utils import Sequence\n",
    "# from keras.models import Sequential\n",
    "import pickle\n",
    "print('imported pickle')\n",
    "\n",
    "eu_file2 = \"./Saved_ML_models/XGBr_eu_puts.sav\"\n",
    "#\n",
    "XGBr_model_eu_puts = pickle.load(open(eu_file2, 'rb'))\n",
    "#model_american_calls = load_model(\"./Saved_ML_models/model_american_calls.h5\")"
   ]
  },
  {
   "cell_type": "code",
   "execution_count": 2,
   "metadata": {},
   "outputs": [],
   "source": [
    "\n",
    "df = Data.GetData(start_date,df_end, 255, False, True)\n"
   ]
  },
  {
   "cell_type": "code",
   "execution_count": null,
   "metadata": {},
   "outputs": [],
   "source": [
    "df = df[df.lastTradeDate >= date(2023, 11, 18)]\n",
    "df_E = df[df.method == 'E']\n",
    "price = []\n",
    "print(len(df))\n",
    "for i in tqdm(range(len(df))):\n",
    "    price.append(pm.BS(df.iloc[i].S0, df.iloc[i].strike,df.iloc[i].maturity/365,df.iloc[i].sigma,0.05,df.iloc[i].optionType))"
   ]
  },
  {
   "cell_type": "code",
   "execution_count": 2,
   "metadata": {},
   "outputs": [],
   "source": [
    "import matplotlib.pyplot as plt\n",
    "import numpy as np"
   ]
  },
  {
   "cell_type": "code",
   "execution_count": 4,
   "metadata": {},
   "outputs": [
    {
     "name": "stdout",
     "output_type": "stream",
     "text": [
      "3904\n"
     ]
    }
   ],
   "source": [
    "df = Data.GetData(start_date,df_end, 255, True)\n",
    "df = df[df.lastTradeDate >= date(2023, 11, 18)]\n",
    "df = df[df.method == 'A']\n",
    "df = df[df.optionType == 'calls']\n",
    "df = df[df.lastPrice > 5]\n",
    "print(len(df))\n",
    "price = []\n",
    "test = []"
   ]
  },
  {
   "cell_type": "code",
   "execution_count": 5,
   "metadata": {},
   "outputs": [
    {
     "name": "stdout",
     "output_type": "stream",
     "text": [
      "start loop\n"
     ]
    },
    {
     "name": "stderr",
     "output_type": "stream",
     "text": [
      "100%|██████████| 3904/3904 [00:00<00:00, 6025.40it/s]\n"
     ]
    }
   ],
   "source": [
    "import ML_pricing as ML\n",
    "\n",
    "print('start loop')\n",
    "for i in tqdm(range(len(df))):\n",
    "    price.append(ML.DTR_am_calls(df.iloc[i].S0, df.iloc[i].strike,df.iloc[i].maturity/365,df.iloc[i].sigma,df.iloc[i].returns))\n",
    "    test.append(df.iloc[i].lastPrice)\n"
   ]
  },
  {
   "cell_type": "code",
   "execution_count": 6,
   "metadata": {},
   "outputs": [
    {
     "data": {
      "text/html": [
       "<div>\n",
       "<style scoped>\n",
       "    .dataframe tbody tr th:only-of-type {\n",
       "        vertical-align: middle;\n",
       "    }\n",
       "\n",
       "    .dataframe tbody tr th {\n",
       "        vertical-align: top;\n",
       "    }\n",
       "\n",
       "    .dataframe thead th {\n",
       "        text-align: right;\n",
       "    }\n",
       "</style>\n",
       "<table border=\"1\" class=\"dataframe\">\n",
       "  <thead>\n",
       "    <tr style=\"text-align: right;\">\n",
       "      <th></th>\n",
       "      <th>0</th>\n",
       "      <th>1</th>\n",
       "    </tr>\n",
       "  </thead>\n",
       "  <tbody>\n",
       "    <tr>\n",
       "      <th>0</th>\n",
       "      <td>5.10</td>\n",
       "      <td>141.35</td>\n",
       "    </tr>\n",
       "    <tr>\n",
       "      <th>1</th>\n",
       "      <td>5.10</td>\n",
       "      <td>66.35</td>\n",
       "    </tr>\n",
       "    <tr>\n",
       "      <th>2</th>\n",
       "      <td>5.10</td>\n",
       "      <td>56.72</td>\n",
       "    </tr>\n",
       "    <tr>\n",
       "      <th>3</th>\n",
       "      <td>5.30</td>\n",
       "      <td>41.40</td>\n",
       "    </tr>\n",
       "    <tr>\n",
       "      <th>4</th>\n",
       "      <td>5.50</td>\n",
       "      <td>31.80</td>\n",
       "    </tr>\n",
       "    <tr>\n",
       "      <th>...</th>\n",
       "      <td>...</td>\n",
       "      <td>...</td>\n",
       "    </tr>\n",
       "    <tr>\n",
       "      <th>3899</th>\n",
       "      <td>6.26</td>\n",
       "      <td>210.00</td>\n",
       "    </tr>\n",
       "    <tr>\n",
       "      <th>3900</th>\n",
       "      <td>6.26</td>\n",
       "      <td>199.00</td>\n",
       "    </tr>\n",
       "    <tr>\n",
       "      <th>3901</th>\n",
       "      <td>6.26</td>\n",
       "      <td>167.00</td>\n",
       "    </tr>\n",
       "    <tr>\n",
       "      <th>3902</th>\n",
       "      <td>7.65</td>\n",
       "      <td>148.25</td>\n",
       "    </tr>\n",
       "    <tr>\n",
       "      <th>3903</th>\n",
       "      <td>21.91</td>\n",
       "      <td>114.75</td>\n",
       "    </tr>\n",
       "  </tbody>\n",
       "</table>\n",
       "<p>3904 rows × 2 columns</p>\n",
       "</div>"
      ],
      "text/plain": [
       "          0       1\n",
       "0      5.10  141.35\n",
       "1      5.10   66.35\n",
       "2      5.10   56.72\n",
       "3      5.30   41.40\n",
       "4      5.50   31.80\n",
       "...     ...     ...\n",
       "3899   6.26  210.00\n",
       "3900   6.26  199.00\n",
       "3901   6.26  167.00\n",
       "3902   7.65  148.25\n",
       "3903  21.91  114.75\n",
       "\n",
       "[3904 rows x 2 columns]"
      ]
     },
     "execution_count": 6,
     "metadata": {},
     "output_type": "execute_result"
    }
   ],
   "source": [
    "import pandas as pd\n",
    "pd.DataFrame(np.transpose([price, test]))\n"
   ]
  },
  {
   "cell_type": "code",
   "execution_count": 8,
   "metadata": {},
   "outputs": [
    {
     "data": {
      "text/plain": [
       "[<matplotlib.lines.Line2D at 0x2986d2290>]"
      ]
     },
     "execution_count": 8,
     "metadata": {},
     "output_type": "execute_result"
    },
    {
     "data": {
      "image/png": "[encoded data removed]",
      "text/plain": [
       "<Figure size 640x480 with 1 Axes>"
      ]
     },
     "metadata": {},
     "output_type": "display_data"
    }
   ],
   "source": [
    "import matplotlib.pyplot as plt\n",
    "import numpy as np\n",
    "plt.scatter(price, test, s=5)\n",
    "x = np.linspace(min(test), max(test))\n",
    "plt.plot(x,x)"
   ]
  }
 ],
 "metadata": {
  "kernelspec": {
   "display_name": "Python 3 (ipykernel)",
   "language": "python",
   "name": "python3"
  },
  "language_info": {
   "codemirror_mode": {
    "name": "ipython",
    "version": 3
   },
   "file_extension": ".py",
   "mimetype": "text/x-python",
   "name": "python",
   "nbconvert_exporter": "python",
   "pygments_lexer": "ipython3",
   "version": "3.10.2"
  }
 },
 "nbformat": 4,
 "nbformat_minor": 2
}
