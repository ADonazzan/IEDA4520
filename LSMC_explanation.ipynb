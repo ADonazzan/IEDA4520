{
 "cells": [
  {
   "cell_type": "markdown",
   "metadata": {
    "slideshow": {
     "slide_type": "skip"
    }
   },
   "source": [
    "convert to presentation: jupyter nbconvert LSMC_explanation.ipynb --to slides --no-prompt\n",
    "jupyter nbconvert LSMC_explanation.ipynb --to slides --post serve\n",
    "https://digitalhumanities.hkust.edu.hk/tutorials/turn-your-jupyter-notebook-into-interactive-presentation-slides-using-anaconda/\n",
    "https://digitalhumanities.hkust.edu.hk/tutorials/how-to-host-your-website-on-github-page/"
   ]
  },
  {
   "cell_type": "code",
   "execution_count": 1,
   "metadata": {
    "slideshow": {
     "slide_type": "skip"
    }
   },
   "outputs": [
    {
     "data": {
      "text/html": [
       "<style>\n",
       ".output {\n",
       "    align-items: center;\n",
       "}\n",
       "</style>"
      ],
      "text/plain": [
       "<IPython.core.display.HTML object>"
      ]
     },
     "execution_count": 1,
     "metadata": {},
     "output_type": "execute_result"
    }
   ],
   "source": [
    "from IPython.display import display, HTML\n",
    "\n",
    "CSS = \"\"\"\n",
    ".output {\n",
    "    align-items: center;\n",
    "}\n",
    "\"\"\"\n",
    "\n",
    "HTML('<style>{}</style>'.format(CSS))"
   ]
  },
  {
   "cell_type": "markdown",
   "metadata": {
    "slideshow": {
     "slide_type": "slide"
    }
   },
   "source": [
    "# **Implementation of Least Squares Monte Carlo**\n",
    "****\n",
    "### Using Longstaff-Schwartz algorithm"
   ]
  },
  {
   "cell_type": "markdown",
   "metadata": {
    "slideshow": {
     "slide_type": "notes"
    }
   },
   "source": [
    "***This slide will be skipped***\n",
    "\n",
    "Our implementation of the Least Squares Monte Carlo method for pricing american options is based on the work of Longstaff and Schwartz, presented in Longstaff and Schwartz (2001). \n",
    "\n",
    "American options call for a significant deviation from European or Asian-style pricing techniques, they allow for an early exercise before their maturity. This feature implies that when computing their value, we have to take into account the fact that a rational investor will continuously choose wether to exercise or hold the option, based on which choice will maximize her expected value. An American-style option pricing model must therefore compute the value of the option at every time step as the maximum between the payoff of exercising the option at that time step (early exercise value) and the expected value of holding the option to maturity (continuation value).\n",
    "\n"
   ]
  },
  {
   "cell_type": "markdown",
   "metadata": {
    "slideshow": {
     "slide_type": "slide"
    }
   },
   "source": [
    "## Longstaff-Schwartz algorithm\n",
    "- Proposed in **Longstaff and Schwartz (2001)**.\n",
    "- Computes price of options that can be exercised before maturity.\n",
    "- Uses least-squares regression to estimate conditional expectations.\n",
    "- Useful to price American-style options."
   ]
  },
  {
   "cell_type": "markdown",
   "metadata": {
    "slideshow": {
     "slide_type": "slide"
    }
   },
   "source": [
    "## American Options\n",
    "Allow for **early exercise**: \n",
    "\n",
    "The value at each time step is the maximum between the payoff of exercising the option at that time step (early exercise value) and the expected value of holding the option to maturity (continuation value).\n",
    "\n",
    "For an **American call** option:\n",
    "$$\n",
    "V_t^i = \\max\\left((S_t^i - K)^+,\\: e^{-(T-t)r}(E[S_T|S_t^i] - K)^+ \\right)\n",
    "$$"
   ]
  },
  {
   "cell_type": "markdown",
   "metadata": {
    "slideshow": {
     "slide_type": "slide"
    }
   },
   "source": [
    "## Motivation: Why do we need the LSMC algorithm?\n",
    "\n",
    "- How can we evaluate the **continuation value** $E[S_T|S_t^i]$?\n",
    "\n",
    "    Nested Monte Carlo simulations for every $S_t^i$ until maturity &rarr; **unfeasible** for large numbers\n",
    "    \n",
    "- Binomial Tree: high discretization error if used with long time steps.\n",
    "\n",
    "    Will **underestimate** the number of **early exercise opportunities** as it only provides two outcomes for the value of the underlying.\n",
    "\n",
    "    On the other hand, time complexity: $O(2^n)$\n",
    "    "
   ]
  },
  {
   "cell_type": "markdown",
   "metadata": {
    "slideshow": {
     "slide_type": "skip"
    }
   },
   "source": [
    "The first step in the Longstaff-Schwartz algorithm is to determine the expected payoff at maturity. This can be computed as the payoff of a conventional European option, as the continuation value is zero.\n",
    "$$\n",
    "E[\\pi_T] = \\max(E[S_{T}] - K,0)\n",
    "$$\n",
    "Then, we move to time step $T-1$, where the holder must decide wether to exercise the option or hold it until expiration date T. At time T-1, \n"
   ]
  },
  {
   "cell_type": "markdown",
   "metadata": {
    "slideshow": {
     "slide_type": "slide"
    }
   },
   "source": [
    "## LSMC algorithm\n",
    "We take as example an **American call** option with 1 year maturity, exercisable at times 1,2 and 3. Furthermore: \n",
    "\n",
    "$$\n",
    "S_0 = 1,\\: K = 1.1,\\: r = 0.1,\\: \\sigma = 0.2\n",
    "$$"
   ]
  },
  {
   "cell_type": "code",
   "execution_count": 7,
   "metadata": {
    "slideshow": {
     "slide_type": "slide"
    }
   },
   "outputs": [],
   "source": [
    "import numpy as np\n",
    "import pandas as pd\n",
    "import Price_Models as pm\n",
    "import scipy.stats as stats\n",
    "\n",
    "# Compute price of an american put option with the following parameters\n",
    "S_0, K, T, sigma, r = 1,1.1,1,0.2,0.1\n",
    "M = 8\n",
    "\n",
    "# generate the stock price paths\n",
    "N = 3 #Time steps with trading days\n",
    "dt = T / N\n",
    "S = pm.BS_path(S_0, r, sigma, T, N, nPaths = M)\n",
    "S_paths = pd.DataFrame(S)\n",
    "S_paths = S_paths.rename(columns={0: 't = 0',  1: 't = 1',  2: 't = 2', 3: 't = 3'})\n",
    "S_paths = S_paths.round(decimals = 2)"
   ]
  },
  {
   "cell_type": "code",
   "execution_count": 8,
   "metadata": {},
   "outputs": [
    {
     "data": {
      "text/html": [
       "<div>\n",
       "<style scoped>\n",
       "    .dataframe tbody tr th:only-of-type {\n",
       "        vertical-align: middle;\n",
       "    }\n",
       "\n",
       "    .dataframe tbody tr th {\n",
       "        vertical-align: top;\n",
       "    }\n",
       "\n",
       "    .dataframe thead th {\n",
       "        text-align: right;\n",
       "    }\n",
       "</style>\n",
       "<table border=\"1\" class=\"dataframe\">\n",
       "  <thead>\n",
       "    <tr style=\"text-align: right;\">\n",
       "      <th></th>\n",
       "      <th>t = 0</th>\n",
       "      <th>t = 1</th>\n",
       "      <th>t = 2</th>\n",
       "      <th>t = 3</th>\n",
       "    </tr>\n",
       "  </thead>\n",
       "  <tbody>\n",
       "    <tr>\n",
       "      <th>0</th>\n",
       "      <td>1.0</td>\n",
       "      <td>0.93</td>\n",
       "      <td>0.95</td>\n",
       "      <td>1.12</td>\n",
       "    </tr>\n",
       "    <tr>\n",
       "      <th>1</th>\n",
       "      <td>1.0</td>\n",
       "      <td>1.28</td>\n",
       "      <td>1.15</td>\n",
       "      <td>1.50</td>\n",
       "    </tr>\n",
       "    <tr>\n",
       "      <th>2</th>\n",
       "      <td>1.0</td>\n",
       "      <td>0.98</td>\n",
       "      <td>1.02</td>\n",
       "      <td>0.93</td>\n",
       "    </tr>\n",
       "    <tr>\n",
       "      <th>3</th>\n",
       "      <td>1.0</td>\n",
       "      <td>0.81</td>\n",
       "      <td>0.76</td>\n",
       "      <td>0.93</td>\n",
       "    </tr>\n",
       "    <tr>\n",
       "      <th>4</th>\n",
       "      <td>1.0</td>\n",
       "      <td>0.92</td>\n",
       "      <td>0.92</td>\n",
       "      <td>0.92</td>\n",
       "    </tr>\n",
       "    <tr>\n",
       "      <th>5</th>\n",
       "      <td>1.0</td>\n",
       "      <td>1.05</td>\n",
       "      <td>1.15</td>\n",
       "      <td>1.02</td>\n",
       "    </tr>\n",
       "    <tr>\n",
       "      <th>6</th>\n",
       "      <td>1.0</td>\n",
       "      <td>1.00</td>\n",
       "      <td>1.11</td>\n",
       "      <td>1.24</td>\n",
       "    </tr>\n",
       "    <tr>\n",
       "      <th>7</th>\n",
       "      <td>1.0</td>\n",
       "      <td>0.95</td>\n",
       "      <td>1.03</td>\n",
       "      <td>1.00</td>\n",
       "    </tr>\n",
       "  </tbody>\n",
       "</table>\n",
       "</div>"
      ],
      "text/plain": [
       "   t = 0  t = 1  t = 2  t = 3\n",
       "0    1.0   0.93   0.95   1.12\n",
       "1    1.0   1.28   1.15   1.50\n",
       "2    1.0   0.98   1.02   0.93\n",
       "3    1.0   0.81   0.76   0.93\n",
       "4    1.0   0.92   0.92   0.92\n",
       "5    1.0   1.05   1.15   1.02\n",
       "6    1.0   1.00   1.11   1.24\n",
       "7    1.0   0.95   1.03   1.00"
      ]
     },
     "execution_count": 8,
     "metadata": {},
     "output_type": "execute_result"
    }
   ],
   "source": [
    "S_paths"
   ]
  },
  {
   "cell_type": "markdown",
   "metadata": {
    "slideshow": {
     "slide_type": "slide"
    }
   },
   "source": [
    "## LSMC algorithm: Step 1\n",
    "- Determine the expected payoff at maturity: since continuation value is zero, it is the payoff of a vanilla European option"
   ]
  },
  {
   "cell_type": "code",
   "execution_count": 12,
   "metadata": {
    "slideshow": {
     "slide_type": "skip"
    }
   },
   "outputs": [
    {
     "data": {
      "text/html": [
       "<div>\n",
       "<style scoped>\n",
       "    .dataframe tbody tr th:only-of-type {\n",
       "        vertical-align: middle;\n",
       "    }\n",
       "\n",
       "    .dataframe tbody tr th {\n",
       "        vertical-align: top;\n",
       "    }\n",
       "\n",
       "    .dataframe thead th {\n",
       "        text-align: right;\n",
       "    }\n",
       "</style>\n",
       "<table border=\"1\" class=\"dataframe\">\n",
       "  <thead>\n",
       "    <tr style=\"text-align: right;\">\n",
       "      <th></th>\n",
       "      <th>0</th>\n",
       "      <th>1</th>\n",
       "      <th>2</th>\n",
       "      <th>3</th>\n",
       "    </tr>\n",
       "  </thead>\n",
       "  <tbody>\n",
       "    <tr>\n",
       "      <th>0</th>\n",
       "      <td>0.0</td>\n",
       "      <td>0.0</td>\n",
       "      <td>0.0</td>\n",
       "      <td>0.02</td>\n",
       "    </tr>\n",
       "    <tr>\n",
       "      <th>1</th>\n",
       "      <td>0.0</td>\n",
       "      <td>0.0</td>\n",
       "      <td>0.0</td>\n",
       "      <td>0.40</td>\n",
       "    </tr>\n",
       "    <tr>\n",
       "      <th>2</th>\n",
       "      <td>0.0</td>\n",
       "      <td>0.0</td>\n",
       "      <td>0.0</td>\n",
       "      <td>0.00</td>\n",
       "    </tr>\n",
       "    <tr>\n",
       "      <th>3</th>\n",
       "      <td>0.0</td>\n",
       "      <td>0.0</td>\n",
       "      <td>0.0</td>\n",
       "      <td>0.00</td>\n",
       "    </tr>\n",
       "    <tr>\n",
       "      <th>4</th>\n",
       "      <td>0.0</td>\n",
       "      <td>0.0</td>\n",
       "      <td>0.0</td>\n",
       "      <td>0.00</td>\n",
       "    </tr>\n",
       "    <tr>\n",
       "      <th>5</th>\n",
       "      <td>0.0</td>\n",
       "      <td>0.0</td>\n",
       "      <td>0.0</td>\n",
       "      <td>0.00</td>\n",
       "    </tr>\n",
       "    <tr>\n",
       "      <th>6</th>\n",
       "      <td>0.0</td>\n",
       "      <td>0.0</td>\n",
       "      <td>0.0</td>\n",
       "      <td>0.14</td>\n",
       "    </tr>\n",
       "    <tr>\n",
       "      <th>7</th>\n",
       "      <td>0.0</td>\n",
       "      <td>0.0</td>\n",
       "      <td>0.0</td>\n",
       "      <td>0.00</td>\n",
       "    </tr>\n",
       "  </tbody>\n",
       "</table>\n",
       "</div>"
      ],
      "text/plain": [
       "     0    1    2     3\n",
       "0  0.0  0.0  0.0  0.02\n",
       "1  0.0  0.0  0.0  0.40\n",
       "2  0.0  0.0  0.0  0.00\n",
       "3  0.0  0.0  0.0  0.00\n",
       "4  0.0  0.0  0.0  0.00\n",
       "5  0.0  0.0  0.0  0.00\n",
       "6  0.0  0.0  0.0  0.14\n",
       "7  0.0  0.0  0.0  0.00"
      ]
     },
     "execution_count": 12,
     "metadata": {},
     "output_type": "execute_result"
    }
   ],
   "source": [
    "payoff = np.maximum(S - K, 0)\n",
    "dis_cfl = np.zeros((M, N+1)) # prepare matrix for discounted cashflow at every timestep \n",
    "dis_cfl[:,N] = payoff[:,N]\n",
    "\n",
    "pd.DataFrame(dis_cfl).round(decimals = 2)"
   ]
  },
  {
   "cell_type": "markdown",
   "metadata": {
    "slideshow": {
     "slide_type": "slide"
    }
   },
   "source": [
    "## LSMC algorithm: Step 2\n",
    "- One time step back: consider the paths were the option is **in the money** \\\n",
    "        &rarr; The holder must decide to exercise or not\n",
    "- Discount the payoff of holding the option to maturity: $y_{t=2}^i = e^{-r}\\pi_{t=3}^i$"
   ]
  },
  {
   "cell_type": "code",
   "execution_count": 31,
   "metadata": {},
   "outputs": [
    {
     "ename": "TypeError",
     "evalue": "Index(...) must be called with a collection of some kind, 'Disc val' was passed",
     "output_type": "error",
     "traceback": [
      "\u001b[0;31m---------------------------------------------------------------------------\u001b[0m",
      "\u001b[0;31mTypeError\u001b[0m                                 Traceback (most recent call last)",
      "\u001b[1;32m/Users/andreadonazzan/Library/CloudStorage/OneDrive-HKUSTConnect/IEDA 4520 Project/IEDA4520/LSMC_explanation.ipynb Cell 15\u001b[0m line \u001b[0;36m5\n\u001b[1;32m      <a href='vscode-notebook-cell:/Users/andreadonazzan/Library/CloudStorage/OneDrive-HKUSTConnect/IEDA%204520%20Project/IEDA4520/LSMC_explanation.ipynb#X30sZmlsZQ%3D%3D?line=2'>3</a>\u001b[0m Y \u001b[39m=\u001b[39m np\u001b[39m.\u001b[39mexp(\u001b[39m-\u001b[39mr\u001b[39m*\u001b[39mdt) \u001b[39m*\u001b[39m dis_cfl[cond,\u001b[39m-\u001b[39m\u001b[39m1\u001b[39m]\n\u001b[1;32m      <a href='vscode-notebook-cell:/Users/andreadonazzan/Library/CloudStorage/OneDrive-HKUSTConnect/IEDA%204520%20Project/IEDA4520/LSMC_explanation.ipynb#X30sZmlsZQ%3D%3D?line=3'>4</a>\u001b[0m S_2 \u001b[39m=\u001b[39m S[cond,\u001b[39m-\u001b[39m\u001b[39m2\u001b[39m]\n\u001b[0;32m----> <a href='vscode-notebook-cell:/Users/andreadonazzan/Library/CloudStorage/OneDrive-HKUSTConnect/IEDA%204520%20Project/IEDA4520/LSMC_explanation.ipynb#X30sZmlsZQ%3D%3D?line=4'>5</a>\u001b[0m display(pd\u001b[39m.\u001b[39;49mDataFrame(Y,columns\u001b[39m=\u001b[39;49m\u001b[39m\"\u001b[39;49m\u001b[39mDisc val\u001b[39;49m\u001b[39m\"\u001b[39;49m)\u001b[39m.\u001b[39massign(S2\u001b[39m=\u001b[39mS[:,\u001b[39m-\u001b[39m\u001b[39m2\u001b[39m]))\n\u001b[1;32m      <a href='vscode-notebook-cell:/Users/andreadonazzan/Library/CloudStorage/OneDrive-HKUSTConnect/IEDA%204520%20Project/IEDA4520/LSMC_explanation.ipynb#X30sZmlsZQ%3D%3D?line=5'>6</a>\u001b[0m exercise_flag[cond, \u001b[39m-\u001b[39m\u001b[39m1\u001b[39m] \u001b[39m=\u001b[39m \u001b[39m1\u001b[39m\n\u001b[1;32m      <a href='vscode-notebook-cell:/Users/andreadonazzan/Library/CloudStorage/OneDrive-HKUSTConnect/IEDA%204520%20Project/IEDA4520/LSMC_explanation.ipynb#X30sZmlsZQ%3D%3D?line=6'>7</a>\u001b[0m \u001b[39m# pd.DataFrame(exercise_flag)\u001b[39;00m\n",
      "File \u001b[0;32m/Library/Frameworks/Python.framework/Versions/3.10/lib/python3.10/site-packages/pandas/core/frame.py:782\u001b[0m, in \u001b[0;36mDataFrame.__init__\u001b[0;34m(self, data, index, columns, dtype, copy)\u001b[0m\n\u001b[1;32m    771\u001b[0m         mgr \u001b[39m=\u001b[39m dict_to_mgr(\n\u001b[1;32m    772\u001b[0m             \u001b[39m# error: Item \"ndarray\" of \"Union[ndarray, Series, Index]\" has no\u001b[39;00m\n\u001b[1;32m    773\u001b[0m             \u001b[39m# attribute \"name\"\u001b[39;00m\n\u001b[0;32m   (...)\u001b[0m\n\u001b[1;32m    779\u001b[0m             copy\u001b[39m=\u001b[39m_copy,\n\u001b[1;32m    780\u001b[0m         )\n\u001b[1;32m    781\u001b[0m     \u001b[39melse\u001b[39;00m:\n\u001b[0;32m--> 782\u001b[0m         mgr \u001b[39m=\u001b[39m ndarray_to_mgr(\n\u001b[1;32m    783\u001b[0m             data,\n\u001b[1;32m    784\u001b[0m             index,\n\u001b[1;32m    785\u001b[0m             columns,\n\u001b[1;32m    786\u001b[0m             dtype\u001b[39m=\u001b[39;49mdtype,\n\u001b[1;32m    787\u001b[0m             copy\u001b[39m=\u001b[39;49mcopy,\n\u001b[1;32m    788\u001b[0m             typ\u001b[39m=\u001b[39;49mmanager,\n\u001b[1;32m    789\u001b[0m         )\n\u001b[1;32m    791\u001b[0m \u001b[39m# For data is list-like, or Iterable (will consume into list)\u001b[39;00m\n\u001b[1;32m    792\u001b[0m \u001b[39melif\u001b[39;00m is_list_like(data):\n",
      "File \u001b[0;32m/Library/Frameworks/Python.framework/Versions/3.10/lib/python3.10/site-packages/pandas/core/internals/construction.py:332\u001b[0m, in \u001b[0;36mndarray_to_mgr\u001b[0;34m(values, index, columns, dtype, copy, typ)\u001b[0m\n\u001b[1;32m    323\u001b[0m     values \u001b[39m=\u001b[39m sanitize_array(\n\u001b[1;32m    324\u001b[0m         values,\n\u001b[1;32m    325\u001b[0m         \u001b[39mNone\u001b[39;00m,\n\u001b[0;32m   (...)\u001b[0m\n\u001b[1;32m    328\u001b[0m         allow_2d\u001b[39m=\u001b[39m\u001b[39mTrue\u001b[39;00m,\n\u001b[1;32m    329\u001b[0m     )\n\u001b[1;32m    331\u001b[0m \u001b[39m# _prep_ndarraylike ensures that values.ndim == 2 at this point\u001b[39;00m\n\u001b[0;32m--> 332\u001b[0m index, columns \u001b[39m=\u001b[39m _get_axes(\n\u001b[1;32m    333\u001b[0m     values\u001b[39m.\u001b[39;49mshape[\u001b[39m0\u001b[39;49m], values\u001b[39m.\u001b[39;49mshape[\u001b[39m1\u001b[39;49m], index\u001b[39m=\u001b[39;49mindex, columns\u001b[39m=\u001b[39;49mcolumns\n\u001b[1;32m    334\u001b[0m )\n\u001b[1;32m    336\u001b[0m _check_values_indices_shape_match(values, index, columns)\n\u001b[1;32m    338\u001b[0m \u001b[39mif\u001b[39;00m typ \u001b[39m==\u001b[39m \u001b[39m\"\u001b[39m\u001b[39marray\u001b[39m\u001b[39m\"\u001b[39m:\n",
      "File \u001b[0;32m/Library/Frameworks/Python.framework/Versions/3.10/lib/python3.10/site-packages/pandas/core/internals/construction.py:756\u001b[0m, in \u001b[0;36m_get_axes\u001b[0;34m(N, K, index, columns)\u001b[0m\n\u001b[1;32m    754\u001b[0m     columns \u001b[39m=\u001b[39m default_index(K)\n\u001b[1;32m    755\u001b[0m \u001b[39melse\u001b[39;00m:\n\u001b[0;32m--> 756\u001b[0m     columns \u001b[39m=\u001b[39m ensure_index(columns)\n\u001b[1;32m    757\u001b[0m \u001b[39mreturn\u001b[39;00m index, columns\n",
      "File \u001b[0;32m/Library/Frameworks/Python.framework/Versions/3.10/lib/python3.10/site-packages/pandas/core/indexes/base.py:7568\u001b[0m, in \u001b[0;36mensure_index\u001b[0;34m(index_like, copy)\u001b[0m\n\u001b[1;32m   7566\u001b[0m         \u001b[39mreturn\u001b[39;00m Index(index_like, copy\u001b[39m=\u001b[39mcopy, tupleize_cols\u001b[39m=\u001b[39m\u001b[39mFalse\u001b[39;00m)\n\u001b[1;32m   7567\u001b[0m \u001b[39melse\u001b[39;00m:\n\u001b[0;32m-> 7568\u001b[0m     \u001b[39mreturn\u001b[39;00m Index(index_like, copy\u001b[39m=\u001b[39;49mcopy)\n",
      "File \u001b[0;32m/Library/Frameworks/Python.framework/Versions/3.10/lib/python3.10/site-packages/pandas/core/indexes/base.py:524\u001b[0m, in \u001b[0;36mIndex.__new__\u001b[0;34m(cls, data, dtype, copy, name, tupleize_cols)\u001b[0m\n\u001b[1;32m    521\u001b[0m         data \u001b[39m=\u001b[39m com\u001b[39m.\u001b[39masarray_tuplesafe(data, dtype\u001b[39m=\u001b[39m_dtype_obj)\n\u001b[1;32m    523\u001b[0m \u001b[39melif\u001b[39;00m is_scalar(data):\n\u001b[0;32m--> 524\u001b[0m     \u001b[39mraise\u001b[39;00m \u001b[39mcls\u001b[39;49m\u001b[39m.\u001b[39;49m_raise_scalar_data_error(data)\n\u001b[1;32m    525\u001b[0m \u001b[39melif\u001b[39;00m \u001b[39mhasattr\u001b[39m(data, \u001b[39m\"\u001b[39m\u001b[39m__array__\u001b[39m\u001b[39m\"\u001b[39m):\n\u001b[1;32m    526\u001b[0m     \u001b[39mreturn\u001b[39;00m Index(np\u001b[39m.\u001b[39masarray(data), dtype\u001b[39m=\u001b[39mdtype, copy\u001b[39m=\u001b[39mcopy, name\u001b[39m=\u001b[39mname)\n",
      "File \u001b[0;32m/Library/Frameworks/Python.framework/Versions/3.10/lib/python3.10/site-packages/pandas/core/indexes/base.py:5265\u001b[0m, in \u001b[0;36mIndex._raise_scalar_data_error\u001b[0;34m(cls, data)\u001b[0m\n\u001b[1;32m   5260\u001b[0m \u001b[39m@final\u001b[39m\n\u001b[1;32m   5261\u001b[0m \u001b[39m@classmethod\u001b[39m\n\u001b[1;32m   5262\u001b[0m \u001b[39mdef\u001b[39;00m \u001b[39m_raise_scalar_data_error\u001b[39m(\u001b[39mcls\u001b[39m, data):\n\u001b[1;32m   5263\u001b[0m     \u001b[39m# We return the TypeError so that we can raise it from the constructor\u001b[39;00m\n\u001b[1;32m   5264\u001b[0m     \u001b[39m#  in order to keep mypy happy\u001b[39;00m\n\u001b[0;32m-> 5265\u001b[0m     \u001b[39mraise\u001b[39;00m \u001b[39mTypeError\u001b[39;00m(\n\u001b[1;32m   5266\u001b[0m         \u001b[39mf\u001b[39m\u001b[39m\"\u001b[39m\u001b[39m{\u001b[39;00m\u001b[39mcls\u001b[39m\u001b[39m.\u001b[39m\u001b[39m__name__\u001b[39m\u001b[39m}\u001b[39;00m\u001b[39m(...) must be called with a collection of some \u001b[39m\u001b[39m\"\u001b[39m\n\u001b[1;32m   5267\u001b[0m         \u001b[39mf\u001b[39m\u001b[39m\"\u001b[39m\u001b[39mkind, \u001b[39m\u001b[39m{\u001b[39;00m\u001b[39mrepr\u001b[39m(data)\u001b[39m \u001b[39m\u001b[39mif\u001b[39;00m\u001b[39m \u001b[39m\u001b[39mnot\u001b[39;00m\u001b[39m \u001b[39m\u001b[39misinstance\u001b[39m(data,\u001b[39m \u001b[39mnp\u001b[39m.\u001b[39mgeneric)\u001b[39m \u001b[39m\u001b[39melse\u001b[39;00m\u001b[39m \u001b[39m\u001b[39mstr\u001b[39m(data)\u001b[39m}\u001b[39;00m\u001b[39m \u001b[39m\u001b[39m\"\u001b[39m\n\u001b[1;32m   5268\u001b[0m         \u001b[39m\"\u001b[39m\u001b[39mwas passed\u001b[39m\u001b[39m\"\u001b[39m\n\u001b[1;32m   5269\u001b[0m     )\n",
      "\u001b[0;31mTypeError\u001b[0m: Index(...) must be called with a collection of some kind, 'Disc val' was passed"
     ]
    }
   ],
   "source": [
    "exercise_flag = np.zeros((M,N)) # should we exercise\n",
    "cond = S[:,-2] > K # in the money\n",
    "Y = np.exp(-r*dt) * dis_cfl[cond,-1]\n",
    "S_2 = S[cond,-2]\n",
    "display(pd.DataFrame(Y,columns=\"Disc val\").assign(S2=S[:,-2]))\n",
    "exercise_flag[cond, -1] = 1\n",
    "# pd.DataFrame(exercise_flag)\n",
    "X = np.column_stack([np.ones(M), S[:,-1], S[:,-1]**2])\n",
    "cond_x = X[cond, :]\n",
    "print(S[:,-2], cond)\n"
   ]
  },
  {
   "cell_type": "code",
   "execution_count": null,
   "metadata": {},
   "outputs": [
    {
     "data": {
      "text/html": [
       "<div>\n",
       "<style scoped>\n",
       "    .dataframe tbody tr th:only-of-type {\n",
       "        vertical-align: middle;\n",
       "    }\n",
       "\n",
       "    .dataframe tbody tr th {\n",
       "        vertical-align: top;\n",
       "    }\n",
       "\n",
       "    .dataframe thead th {\n",
       "        text-align: right;\n",
       "    }\n",
       "</style>\n",
       "<table border=\"1\" class=\"dataframe\">\n",
       "  <thead>\n",
       "    <tr style=\"text-align: right;\">\n",
       "      <th></th>\n",
       "      <th>Disc. Payoff</th>\n",
       "      <th>S_t=2</th>\n",
       "    </tr>\n",
       "  </thead>\n",
       "  <tbody>\n",
       "    <tr>\n",
       "      <th>0</th>\n",
       "      <td>0.00</td>\n",
       "      <td>0.00</td>\n",
       "    </tr>\n",
       "    <tr>\n",
       "      <th>1</th>\n",
       "      <td>0.00</td>\n",
       "      <td>0.00</td>\n",
       "    </tr>\n",
       "    <tr>\n",
       "      <th>2</th>\n",
       "      <td>0.00</td>\n",
       "      <td>0.00</td>\n",
       "    </tr>\n",
       "    <tr>\n",
       "      <th>3</th>\n",
       "      <td>0.12</td>\n",
       "      <td>1.22</td>\n",
       "    </tr>\n",
       "    <tr>\n",
       "      <th>4</th>\n",
       "      <td>0.00</td>\n",
       "      <td>0.00</td>\n",
       "    </tr>\n",
       "    <tr>\n",
       "      <th>5</th>\n",
       "      <td>0.00</td>\n",
       "      <td>1.12</td>\n",
       "    </tr>\n",
       "    <tr>\n",
       "      <th>6</th>\n",
       "      <td>0.21</td>\n",
       "      <td>1.40</td>\n",
       "    </tr>\n",
       "    <tr>\n",
       "      <th>7</th>\n",
       "      <td>0.06</td>\n",
       "      <td>1.14</td>\n",
       "    </tr>\n",
       "  </tbody>\n",
       "</table>\n",
       "</div>"
      ],
      "text/plain": [
       "   Disc. Payoff  S_t=2\n",
       "0          0.00   0.00\n",
       "1          0.00   0.00\n",
       "2          0.00   0.00\n",
       "3          0.12   1.22\n",
       "4          0.00   0.00\n",
       "5          0.00   1.12\n",
       "6          0.21   1.40\n",
       "7          0.06   1.14"
      ]
     },
     "execution_count": 77,
     "metadata": {},
     "output_type": "execute_result"
    }
   ],
   "source": [
    "y2 = np.exp(-r)*np.array(Option_payoff['t = 3'])\n",
    "cond = 1.1 < np.array(GBM_paths['t = 2'])\n",
    "Payoff_st2 = pd.DataFrame(np.transpose([y2 * cond, np.array(GBM_paths['t = 2'])*cond]), columns=['Disc. Payoff', 'S_t=2']).round(decimals = 2)\n",
    "Payoff_st2"
   ]
  },
  {
   "cell_type": "markdown",
   "metadata": {
    "slideshow": {
     "slide_type": "slide"
    }
   },
   "source": [
    "## LSMC algorithm: Step 3\n",
    "- Regress $y_{t=2}$ on a set of basis functions of $S_{t=2}$\n",
    "\n",
    "If $a_j$ are coefficients and $B_j$ is the set of basis functions, then the **continuation value** for a path $i$ with values $S_{i,t_n}$ at time $t_{n}$ is\n",
    "\n",
    "\\begin{equation}\n",
    "\\begin{array}{lll}\n",
    "Cont_t^i& =& \\sum_{j=0}^{\\infty} a_j\\left(t_{n}\\right)B_j(S_{t})\\\\\n",
    "\\end{array}\n",
    "\\end{equation}\n"
   ]
  },
  {
   "cell_type": "code",
   "execution_count": null,
   "metadata": {},
   "outputs": [],
   "source": [
    "X = np.column_stack([np.ones(8), S[:,i], S[:,i]**2]) # Create matrix of basis functions for regressions\n",
    "cond_x = X[cond, :]"
   ]
  },
  {
   "cell_type": "code",
   "execution_count": null,
   "metadata": {},
   "outputs": [],
   "source": [
    "payoff = np.maximum(S - K, 0)\n",
    "\n",
    "# perform the least squares regression\n",
    "dis_cfl = np.zeros((M, N+1)) # discounted cashflow at every timestep \n",
    "dis_cfl[:,N] = payoff[:,N] \n",
    "exercise_flag = np.zeros((M,N)) # should we exercise\n",
    "cond = S[:,-1] > K # not in the money\n",
    "exercise_flag[cond, -1] = 1\n",
    "for i in range(N-1, 0, -1): # backward\n",
    "    cond = S[:,i] > K\n",
    "    X = np.column_stack([np.ones(M), S[:,i], S[:,i]**2])\n",
    "    cond_x = X[cond, :]\n",
    "    Y = np.exp(-r*dt) * dis_cfl[cond,i+1]\n",
    "    beta = np.linalg.lstsq(cond_x, Y, rcond=None)[0]\n",
    "    continue_val = np.dot(X, beta)\n",
    "    continue_val[~cond] = 0\n",
    "    cond_exercise = payoff[:,i] > continue_val\n",
    "    exercise_flag[cond_exercise, i-1] = 1\n",
    "    dis_cfl[:,i] = np.exp(-r*dt) * dis_cfl[:,i+1]\n",
    "    dis_cfl[cond_exercise,i] = payoff[cond_exercise,i]\n",
    "\n",
    "stopping_criteria = np.argmax(exercise_flag, axis=1) # first exercise point\n",
    "\n",
    "actual_exercise = np.zeros_like(exercise_flag)\n",
    "actual_exercise[np.arange(M), stopping_criteria] = exercise_flag[np.arange(M), stopping_criteria]\n",
    "discount = (np.ones((M, N))*np.exp(-r*dt)).cumprod(axis=1)[::-1]\n",
    "exp_payoff = (actual_exercise * payoff[:,1:] * discount).sum() / M\n",
    "exp_payoff"
   ]
  }
 ],
 "metadata": {
  "kernelspec": {
   "display_name": "Python 3",
   "language": "python",
   "name": "python3"
  },
  "language_info": {
   "codemirror_mode": {
    "name": "ipython",
    "version": 3
   },
   "file_extension": ".py",
   "mimetype": "text/x-python",
   "name": "python",
   "nbconvert_exporter": "python",
   "pygments_lexer": "ipython3",
   "version": "3.10.2"
  }
 },
 "nbformat": 4,
 "nbformat_minor": 2
}
