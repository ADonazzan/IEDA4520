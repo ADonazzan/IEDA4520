{
 "cells": [
  {
   "cell_type": "markdown",
   "metadata": {
    "slideshow": {
     "slide_type": "skip"
    }
   },
   "source": [
    "convert to presentation: jupyter nbconvert LSMC_explanation.ipynb --to slides --no-prompt\n",
    "jupyter nbconvert LSMC_explanation.ipynb --to slides --post serve\n",
    "https://digitalhumanities.hkust.edu.hk/tutorials/turn-your-jupyter-notebook-into-interactive-presentation-slides-using-anaconda/\n",
    "https://digitalhumanities.hkust.edu.hk/tutorials/how-to-host-your-website-on-github-page/"
   ]
  },
  {
   "cell_type": "code",
   "execution_count": 1,
   "metadata": {
    "slideshow": {
     "slide_type": "skip"
    }
   },
   "outputs": [
    {
     "data": {
      "text/html": [
       "<style>\n",
       ".output {\n",
       "    align-items: center;\n",
       "}\n",
       "</style>"
      ],
      "text/plain": [
       "<IPython.core.display.HTML object>"
      ]
     },
     "execution_count": 1,
     "metadata": {},
     "output_type": "execute_result"
    }
   ],
   "source": [
    "from IPython.display import display, HTML\n",
    "\n",
    "CSS = \"\"\"\n",
    ".output {\n",
    "    align-items: center;\n",
    "}\n",
    "\"\"\"\n",
    "\n",
    "HTML('<style>{}</style>'.format(CSS))"
   ]
  },
  {
   "cell_type": "markdown",
   "metadata": {
    "slideshow": {
     "slide_type": "slide"
    }
   },
   "source": [
    "# **Implementation of Least Squares Monte Carlo**\n",
    "****\n",
    "### Using Longstaff-Schwartz algorithm"
   ]
  },
  {
   "cell_type": "markdown",
   "metadata": {
    "slideshow": {
     "slide_type": "notes"
    }
   },
   "source": [
    "***This slide will be skipped***\n",
    "\n",
    "Our implementation of the Least Squares Monte Carlo method for pricing american options is based on the work of Longstaff and Schwartz, presented in Longstaff and Schwartz (2001). \n",
    "\n",
    "American options call for a significant deviation from European or Asian-style pricing techniques, they allow for an early exercise before their maturity. This feature implies that when computing their value, we have to take into account the fact that a rational investor will continuously choose wether to exercise or hold the option, based on which choice will maximize her expected value. An American-style option pricing model must therefore compute the value of the option at every time step as the maximum between the payoff of exercising the option at that time step (early exercise value) and the expected value of holding the option to maturity (continuation value).\n",
    "\n"
   ]
  },
  {
   "cell_type": "markdown",
   "metadata": {
    "slideshow": {
     "slide_type": "slide"
    }
   },
   "source": [
    "## Longstaff-Schwartz algorithm\n",
    "- Proposed in **Longstaff and Schwartz (2001)**.\n",
    "- Computes price of options that can be exercised before maturity.\n",
    "- Uses least-squares regression to estimate conditional expectations.\n",
    "- Useful to price American-style options."
   ]
  },
  {
   "cell_type": "markdown",
   "metadata": {
    "slideshow": {
     "slide_type": "slide"
    }
   },
   "source": [
    "## American Options\n",
    "Allow for **early exercise**: \n",
    "\n",
    "The value at each time step is the maximum between the payoff of exercising the option at that time step (early exercise value) and the expected value of holding the option to maturity (continuation value).\n",
    "\n",
    "For an **American call** option:\n",
    "$$\n",
    "V_t^i = \\max\\left((S_t^i - K)^+,\\: e^{-(T-t)r}(E[S_T|S_t^i] - K)^+ \\right)\n",
    "$$"
   ]
  },
  {
   "cell_type": "markdown",
   "metadata": {
    "slideshow": {
     "slide_type": "slide"
    }
   },
   "source": [
    "## Motivation: Why do we need the LSMC algorithm?\n",
    "\n",
    "- How can we evaluate the **continuation value** $E[S_T|S_t^i]$?\n",
    "\n",
    "    Nested Monte Carlo simulations for every $S_t^i$ until maturity &rarr; **unfeasible** for large numbers\n",
    "    \n",
    "- Binomial Tree: high discretization error if used with long time steps.\n",
    "\n",
    "    Will **underestimate** the number of **early exercise opportunities** as it only provides two outcomes for the value of the underlying.\n",
    "\n",
    "    On the other hand, time complexity: $O(2^n)$\n",
    "    "
   ]
  },
  {
   "cell_type": "markdown",
   "metadata": {
    "slideshow": {
     "slide_type": "skip"
    }
   },
   "source": [
    "The first step in the Longstaff-Schwartz algorithm is to determine the expected payoff at maturity. This can be computed as the payoff of a conventional European option, as the continuation value is zero.\n",
    "$$\n",
    "E[\\pi_T] = \\max(E[S_{T}] - K,0)\n",
    "$$\n",
    "Then, we move to time step $T-1$, where the holder must decide wether to exercise the option or hold it until expiration date T. At time T-1, \n"
   ]
  },
  {
   "cell_type": "markdown",
   "metadata": {
    "slideshow": {
     "slide_type": "slide"
    }
   },
   "source": [
    "## LSMC algorithm\n",
    "We take as example an **American call** option with 1 year maturity, exercisable at times 1,2 and 3. Furthermore: \n",
    "\n",
    "$$\n",
    "S_0 = 1,\\: K = 1.1,\\: r = 0.1,\\: \\sigma = 0.2\n",
    "$$"
   ]
  },
  {
   "cell_type": "code",
   "execution_count": 1,
   "metadata": {
    "slideshow": {
     "slide_type": "slide"
    }
   },
   "outputs": [],
   "source": [
    "import numpy as np\n",
    "import pandas as pd\n",
    "import Price_Models as pm\n",
    "import scipy.stats as stats\n",
    "\n",
    "# Compute price of an american put option with the following parameters\n",
    "S_0, K, T, sigma, r = 1,1.1,1,0.2,0.1\n",
    "M = 8\n",
    "\n",
    "# generate the stock price paths\n",
    "N = 3 #Time steps with trading days\n",
    "dt = T / N\n",
    "S = pm.BS_path(S_0, r, sigma, T, N, nPaths = M)\n",
    "S_paths = pd.DataFrame(S)\n",
    "S_paths = S_paths.rename(columns={0: 't = 0',  1: 't = 1',  2: 't = 2', 3: 't = 3'})\n",
    "S_paths = S_paths.round(decimals = 2)"
   ]
  },
  {
   "cell_type": "code",
   "execution_count": 6,
   "metadata": {},
   "outputs": [],
   "source": [
    "import dataframe_image as dfi\n",
    "dfi.export(S_paths, './Presentation files/Stock_path.png', dpi = 300)"
   ]
  },
  {
   "cell_type": "code",
   "execution_count": 2,
   "metadata": {},
   "outputs": [
    {
     "data": {
      "text/html": [
       "<div>\n",
       "<style scoped>\n",
       "    .dataframe tbody tr th:only-of-type {\n",
       "        vertical-align: middle;\n",
       "    }\n",
       "\n",
       "    .dataframe tbody tr th {\n",
       "        vertical-align: top;\n",
       "    }\n",
       "\n",
       "    .dataframe thead th {\n",
       "        text-align: right;\n",
       "    }\n",
       "</style>\n",
       "<table border=\"1\" class=\"dataframe\">\n",
       "  <thead>\n",
       "    <tr style=\"text-align: right;\">\n",
       "      <th></th>\n",
       "      <th>t = 0</th>\n",
       "      <th>t = 1</th>\n",
       "      <th>t = 2</th>\n",
       "      <th>t = 3</th>\n",
       "    </tr>\n",
       "  </thead>\n",
       "  <tbody>\n",
       "    <tr>\n",
       "      <th>0</th>\n",
       "      <td>1.0</td>\n",
       "      <td>1.15</td>\n",
       "      <td>0.92</td>\n",
       "      <td>1.05</td>\n",
       "    </tr>\n",
       "    <tr>\n",
       "      <th>1</th>\n",
       "      <td>1.0</td>\n",
       "      <td>1.20</td>\n",
       "      <td>1.19</td>\n",
       "      <td>1.33</td>\n",
       "    </tr>\n",
       "    <tr>\n",
       "      <th>2</th>\n",
       "      <td>1.0</td>\n",
       "      <td>0.96</td>\n",
       "      <td>0.97</td>\n",
       "      <td>1.04</td>\n",
       "    </tr>\n",
       "    <tr>\n",
       "      <th>3</th>\n",
       "      <td>1.0</td>\n",
       "      <td>0.96</td>\n",
       "      <td>1.19</td>\n",
       "      <td>1.46</td>\n",
       "    </tr>\n",
       "    <tr>\n",
       "      <th>4</th>\n",
       "      <td>1.0</td>\n",
       "      <td>1.04</td>\n",
       "      <td>1.02</td>\n",
       "      <td>0.99</td>\n",
       "    </tr>\n",
       "    <tr>\n",
       "      <th>5</th>\n",
       "      <td>1.0</td>\n",
       "      <td>1.07</td>\n",
       "      <td>1.02</td>\n",
       "      <td>1.08</td>\n",
       "    </tr>\n",
       "    <tr>\n",
       "      <th>6</th>\n",
       "      <td>1.0</td>\n",
       "      <td>1.13</td>\n",
       "      <td>1.18</td>\n",
       "      <td>1.36</td>\n",
       "    </tr>\n",
       "    <tr>\n",
       "      <th>7</th>\n",
       "      <td>1.0</td>\n",
       "      <td>1.08</td>\n",
       "      <td>1.18</td>\n",
       "      <td>1.19</td>\n",
       "    </tr>\n",
       "  </tbody>\n",
       "</table>\n",
       "</div>"
      ],
      "text/plain": [
       "   t = 0  t = 1  t = 2  t = 3\n",
       "0    1.0   1.15   0.92   1.05\n",
       "1    1.0   1.20   1.19   1.33\n",
       "2    1.0   0.96   0.97   1.04\n",
       "3    1.0   0.96   1.19   1.46\n",
       "4    1.0   1.04   1.02   0.99\n",
       "5    1.0   1.07   1.02   1.08\n",
       "6    1.0   1.13   1.18   1.36\n",
       "7    1.0   1.08   1.18   1.19"
      ]
     },
     "execution_count": 2,
     "metadata": {},
     "output_type": "execute_result"
    }
   ],
   "source": [
    "S_paths"
   ]
  },
  {
   "cell_type": "markdown",
   "metadata": {
    "slideshow": {
     "slide_type": "slide"
    }
   },
   "source": [
    "## LSMC algorithm: Step 1\n",
    "- Determine the expected payoff at maturity: since continuation value is zero, it is the payoff of a vanilla European option"
   ]
  },
  {
   "cell_type": "code",
   "execution_count": 7,
   "metadata": {
    "slideshow": {
     "slide_type": "skip"
    }
   },
   "outputs": [
    {
     "data": {
      "text/html": [
       "<div>\n",
       "<style scoped>\n",
       "    .dataframe tbody tr th:only-of-type {\n",
       "        vertical-align: middle;\n",
       "    }\n",
       "\n",
       "    .dataframe tbody tr th {\n",
       "        vertical-align: top;\n",
       "    }\n",
       "\n",
       "    .dataframe thead th {\n",
       "        text-align: right;\n",
       "    }\n",
       "</style>\n",
       "<table border=\"1\" class=\"dataframe\">\n",
       "  <thead>\n",
       "    <tr style=\"text-align: right;\">\n",
       "      <th></th>\n",
       "      <th>0</th>\n",
       "      <th>1</th>\n",
       "      <th>2</th>\n",
       "      <th>3</th>\n",
       "    </tr>\n",
       "  </thead>\n",
       "  <tbody>\n",
       "    <tr>\n",
       "      <th>0</th>\n",
       "      <td>0.0</td>\n",
       "      <td>0.0</td>\n",
       "      <td>0.0</td>\n",
       "      <td>0.00</td>\n",
       "    </tr>\n",
       "    <tr>\n",
       "      <th>1</th>\n",
       "      <td>0.0</td>\n",
       "      <td>0.0</td>\n",
       "      <td>0.0</td>\n",
       "      <td>0.23</td>\n",
       "    </tr>\n",
       "    <tr>\n",
       "      <th>2</th>\n",
       "      <td>0.0</td>\n",
       "      <td>0.0</td>\n",
       "      <td>0.0</td>\n",
       "      <td>0.00</td>\n",
       "    </tr>\n",
       "    <tr>\n",
       "      <th>3</th>\n",
       "      <td>0.0</td>\n",
       "      <td>0.0</td>\n",
       "      <td>0.0</td>\n",
       "      <td>0.36</td>\n",
       "    </tr>\n",
       "    <tr>\n",
       "      <th>4</th>\n",
       "      <td>0.0</td>\n",
       "      <td>0.0</td>\n",
       "      <td>0.0</td>\n",
       "      <td>0.00</td>\n",
       "    </tr>\n",
       "    <tr>\n",
       "      <th>5</th>\n",
       "      <td>0.0</td>\n",
       "      <td>0.0</td>\n",
       "      <td>0.0</td>\n",
       "      <td>0.00</td>\n",
       "    </tr>\n",
       "    <tr>\n",
       "      <th>6</th>\n",
       "      <td>0.0</td>\n",
       "      <td>0.0</td>\n",
       "      <td>0.0</td>\n",
       "      <td>0.26</td>\n",
       "    </tr>\n",
       "    <tr>\n",
       "      <th>7</th>\n",
       "      <td>0.0</td>\n",
       "      <td>0.0</td>\n",
       "      <td>0.0</td>\n",
       "      <td>0.09</td>\n",
       "    </tr>\n",
       "  </tbody>\n",
       "</table>\n",
       "</div>"
      ],
      "text/plain": [
       "     0    1    2     3\n",
       "0  0.0  0.0  0.0  0.00\n",
       "1  0.0  0.0  0.0  0.23\n",
       "2  0.0  0.0  0.0  0.00\n",
       "3  0.0  0.0  0.0  0.36\n",
       "4  0.0  0.0  0.0  0.00\n",
       "5  0.0  0.0  0.0  0.00\n",
       "6  0.0  0.0  0.0  0.26\n",
       "7  0.0  0.0  0.0  0.09"
      ]
     },
     "execution_count": 7,
     "metadata": {},
     "output_type": "execute_result"
    }
   ],
   "source": [
    "payoff = np.maximum(S - K, 0)\n",
    "dis_cfl = np.zeros((M, N+1)) # prepare matrix for discounted cashflow at every timestep \n",
    "dis_cfl[:,N] = payoff[:,N]\n",
    "dfi.export(pd.DataFrame(dis_cfl).round(decimals = 2), './Presentation files/Payoff_maturity.png', dpi = 300)\n",
    "\n",
    "pd.DataFrame(dis_cfl).round(decimals = 2)"
   ]
  },
  {
   "cell_type": "markdown",
   "metadata": {
    "slideshow": {
     "slide_type": "slide"
    }
   },
   "source": [
    "## LSMC algorithm: Step 2\n",
    "- One time step back: consider the paths were the option is **in the money** \\\n",
    "        &rarr; The holder must decide to exercise or not\n",
    "- Discount the payoff of holding the option to maturity: $y_{t=2}^i = e^{-r}\\pi_{t=3}^i$\n",
    "- Get value of underlying at time T-1"
   ]
  },
  {
   "cell_type": "code",
   "execution_count": 16,
   "metadata": {},
   "outputs": [
    {
     "name": "stdout",
     "output_type": "stream",
     "text": [
      "[0.22689538 0.3479476  0.25144297 0.08994861] [1.18564494 1.18736242 1.17527395 1.17641294]\n"
     ]
    },
    {
     "data": {
      "text/html": [
       "<div>\n",
       "<style scoped>\n",
       "    .dataframe tbody tr th:only-of-type {\n",
       "        vertical-align: middle;\n",
       "    }\n",
       "\n",
       "    .dataframe tbody tr th {\n",
       "        vertical-align: top;\n",
       "    }\n",
       "\n",
       "    .dataframe thead th {\n",
       "        text-align: right;\n",
       "    }\n",
       "</style>\n",
       "<table border=\"1\" class=\"dataframe\">\n",
       "  <thead>\n",
       "    <tr style=\"text-align: right;\">\n",
       "      <th></th>\n",
       "      <th>Disc val</th>\n",
       "      <th>S_2</th>\n",
       "    </tr>\n",
       "  </thead>\n",
       "  <tbody>\n",
       "    <tr>\n",
       "      <th>0</th>\n",
       "      <td>0.23</td>\n",
       "      <td>1.19</td>\n",
       "    </tr>\n",
       "    <tr>\n",
       "      <th>1</th>\n",
       "      <td>0.35</td>\n",
       "      <td>1.19</td>\n",
       "    </tr>\n",
       "    <tr>\n",
       "      <th>2</th>\n",
       "      <td>0.25</td>\n",
       "      <td>1.18</td>\n",
       "    </tr>\n",
       "    <tr>\n",
       "      <th>3</th>\n",
       "      <td>0.09</td>\n",
       "      <td>1.18</td>\n",
       "    </tr>\n",
       "  </tbody>\n",
       "</table>\n",
       "</div>"
      ],
      "text/plain": [
       "   Disc val   S_2\n",
       "0      0.23  1.19\n",
       "1      0.35  1.19\n",
       "2      0.25  1.18\n",
       "3      0.09  1.18"
      ]
     },
     "metadata": {},
     "output_type": "display_data"
    },
    {
     "name": "stdout",
     "output_type": "stream",
     "text": [
      "[0.91828535 1.18564494 0.97207179 1.18736242 1.01925776 1.0228439\n",
      " 1.17527395 1.17641294] [False  True False  True False False  True  True]\n"
     ]
    }
   ],
   "source": [
    "exercise_flag = np.zeros((M,N)) # should we exercise\n",
    "cond = S[:,-2] > K # in the money\n",
    "Y = np.exp(-r*dt) * dis_cfl[cond,-1]\n",
    "S_2 = S[cond,-2]\n",
    "print(Y, S_2)\n",
    "display_df = pd.DataFrame({\"Disc val\":Y}).assign(S_2=S_2)\n",
    "display_df\n",
    "display(display_df.round(decimals = 2))\n",
    "dfi.export(display_df.round(decimals = 2), './Presentation files/Disc_payoff.png', dpi = 300)\n",
    "exercise_flag[cond, -1] = 1\n",
    "# pd.DataFrame(exercise_flag)\n"
   ]
  },
  {
   "cell_type": "markdown",
   "metadata": {
    "slideshow": {
     "slide_type": "slide"
    }
   },
   "source": [
    "## LSMC algorithm: Step 3\n",
    "- Regress $y_{t=2}$ on a set of basis functions of $S_{t=2}$\n",
    "\n",
    "If $a_j$ are coefficients and $B_j$ is the set of basis functions, then the **continuation value** for a path $i$ with values $S_{i,t_n}$ at time $t_{n}$ is\n",
    "\n",
    "\\begin{equation}\n",
    "\\begin{array}{lll}\n",
    "Cont_t^i& =& \\sum_{j=0}^{\\infty} a_j\\left(t_{n}\\right)B_j(S_{t})\\\\\n",
    "\\end{array}\n",
    "\\end{equation}\n"
   ]
  },
  {
   "cell_type": "code",
   "execution_count": 29,
   "metadata": {},
   "outputs": [
    {
     "data": {
      "text/html": [
       "<div>\n",
       "<style scoped>\n",
       "    .dataframe tbody tr th:only-of-type {\n",
       "        vertical-align: middle;\n",
       "    }\n",
       "\n",
       "    .dataframe tbody tr th {\n",
       "        vertical-align: top;\n",
       "    }\n",
       "\n",
       "    .dataframe thead th {\n",
       "        text-align: right;\n",
       "    }\n",
       "</style>\n",
       "<table border=\"1\" class=\"dataframe\">\n",
       "  <thead>\n",
       "    <tr style=\"text-align: right;\">\n",
       "      <th></th>\n",
       "      <th>Continue val</th>\n",
       "      <th>P_2</th>\n",
       "    </tr>\n",
       "  </thead>\n",
       "  <tbody>\n",
       "    <tr>\n",
       "      <th>0</th>\n",
       "      <td>0.226895</td>\n",
       "      <td>0.085645</td>\n",
       "    </tr>\n",
       "    <tr>\n",
       "      <th>1</th>\n",
       "      <td>0.347948</td>\n",
       "      <td>0.087362</td>\n",
       "    </tr>\n",
       "    <tr>\n",
       "      <th>2</th>\n",
       "      <td>0.251443</td>\n",
       "      <td>0.075274</td>\n",
       "    </tr>\n",
       "    <tr>\n",
       "      <th>3</th>\n",
       "      <td>0.089949</td>\n",
       "      <td>0.076413</td>\n",
       "    </tr>\n",
       "  </tbody>\n",
       "</table>\n",
       "</div>"
      ],
      "text/plain": [
       "   Continue val       P_2\n",
       "0      0.226895  0.085645\n",
       "1      0.347948  0.087362\n",
       "2      0.251443  0.075274\n",
       "3      0.089949  0.076413"
      ]
     },
     "execution_count": 29,
     "metadata": {},
     "output_type": "execute_result"
    }
   ],
   "source": [
    "X = np.column_stack([np.ones(8), S[:,-2], S[:,-2]**2, S[:,-2]**3,S[:,-2]**4,S[:,-2]**5]) # Create matrix of basis functions for regressions\n",
    "cond_x = X[cond, :]\n",
    "beta = np.linalg.lstsq(cond_x, Y, rcond=None)[0]\n",
    "continue_val = np.dot(X, beta)\n",
    "continue_val[~cond] = 0\n",
    "continue_val\n",
    "Continue_df = pd.DataFrame({\"Continue val\":continue_val[cond], \"P_2\":payoff[:,-2][cond]})\n",
    "\n",
    "dfi.export(Continue_df.round(decimals = 3), './Presentation files/Continue_payoff.png', dpi = 300)\n",
    "Continue_df"
   ]
  },
  {
   "cell_type": "code",
   "execution_count": null,
   "metadata": {},
   "outputs": [],
   "source": [
    "payoff = np.maximum(S - K, 0)\n",
    "\n",
    "# perform the least squares regression\n",
    "dis_cfl = np.zeros((M, N+1)) # discounted cashflow at every timestep \n",
    "dis_cfl[:,N] = payoff[:,N] \n",
    "exercise_flag = np.zeros((M,N)) # should we exercise\n",
    "cond = S[:,-1] > K # not in the money\n",
    "exercise_flag[cond, -1] = 1\n",
    "for i in range(N-1, 0, -1): # backward\n",
    "    cond = S[:,i] > K\n",
    "    X = np.column_stack([np.ones(M), S[:,i], S[:,i]**2])\n",
    "    cond_x = X[cond, :]\n",
    "    Y = np.exp(-r*dt) * dis_cfl[cond,i+1]\n",
    "    beta = np.linalg.lstsq(cond_x, Y, rcond=None)[0]\n",
    "    continue_val = np.dot(X, beta)\n",
    "    continue_val[~cond] = 0\n",
    "    cond_exercise = payoff[:,i] > continue_val\n",
    "    exercise_flag[cond_exercise, i-1] = 1\n",
    "    dis_cfl[:,i] = np.exp(-r*dt) * dis_cfl[:,i+1]\n",
    "    dis_cfl[cond_exercise,i] = payoff[cond_exercise,i]\n",
    "\n",
    "stopping_criteria = np.argmax(exercise_flag, axis=1) # first exercise point\n",
    "\n",
    "actual_exercise = np.zeros_like(exercise_flag)\n",
    "actual_exercise[np.arange(M), stopping_criteria] = exercise_flag[np.arange(M), stopping_criteria]\n",
    "discount = (np.ones((M, N))*np.exp(-r*dt)).cumprod(axis=1)[::-1]\n",
    "exp_payoff = (actual_exercise * payoff[:,1:] * discount).sum() / M\n",
    "exp_payoff"
   ]
  }
 ],
 "metadata": {
  "kernelspec": {
   "display_name": "Python 3",
   "language": "python",
   "name": "python3"
  },
  "language_info": {
   "codemirror_mode": {
    "name": "ipython",
    "version": 3
   },
   "file_extension": ".py",
   "mimetype": "text/x-python",
   "name": "python",
   "nbconvert_exporter": "python",
   "pygments_lexer": "ipython3",
   "version": "3.10.2"
  }
 },
 "nbformat": 4,
 "nbformat_minor": 2
}
